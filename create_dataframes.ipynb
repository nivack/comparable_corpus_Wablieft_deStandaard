{
 "cells": [
  {
   "cell_type": "code",
   "execution_count": null,
   "metadata": {},
   "outputs": [],
   "source": [
    "import pandas as pd\n",
    "import glob\n",
    "import pickle"
   ]
  },
  {
   "cell_type": "markdown",
   "metadata": {},
   "source": [
    "## Create complete df with titles filename,date and category\n",
    "\n",
    "This final_wa_df and final_stan_df are used in majority of the notebooks"
   ]
  },
  {
   "cell_type": "markdown",
   "metadata": {},
   "source": [
    "### read in Metadata"
   ]
  },
  {
   "cell_type": "code",
   "execution_count": null,
   "metadata": {},
   "outputs": [],
   "source": [
    "wa_meta_path = \"\"\n",
    "wa_df = pd.read_csv(\"metadata\\metadata.tsv\", sep='\\t', header=None)\n",
    "stan_df = pd.read_csv(\"metadata\\stanMeta2013.tsv\", engine='python', sep=\"   \", header=None)\n",
    "stan_root_path = \"metadata\\stanMeta\"\n",
    "stan_years = ['2013', '2014', '2015', '2016', '2017', '2017']\n",
    "for year in stan_years:\n",
    "    stan_meta_path = stan_root_path + year + \".tsv\"\n",
    "    stan_df = stan_df.append(pd.read_csv(stan_meta_path, engine='python', sep=\"   \", header=None))"
   ]
  },
  {
   "cell_type": "markdown",
   "metadata": {},
   "source": [
    "##### Format dataframe"
   ]
  },
  {
   "cell_type": "code",
   "execution_count": null,
   "metadata": {},
   "outputs": [],
   "source": [
    "stan_df.columns=['filename', 'title', 'date', \"category\"]\n",
    "wa_df.columns=['filename', 'nr', \"title\", \"date\", \"category\"]\n",
    "\n",
    "wa_df = wa_df.sort_values(by='date')\n",
    "stan_df = stan_df.sort_values(by='date')\n",
    "\n",
    "wa_df = wa_df.drop(columns=['nr'])"
   ]
  },
  {
   "cell_type": "code",
   "execution_count": null,
   "metadata": {},
   "outputs": [],
   "source": [
    "wa_df_limited = wa_df[wa_df[\"date\"] >= 20130102]\n",
    "stan_df_limited = stan_df[stan_df[\"date\"] <= 20171116]"
   ]
  },
  {
   "cell_type": "markdown",
   "metadata": {},
   "source": [
    "##### Read in all filepaths for the article files in the pathfolder"
   ]
  },
  {
   "cell_type": "code",
   "execution_count": null,
   "metadata": {},
   "outputs": [],
   "source": [
    "wa_filepath = \"\"\n",
    "stan_filepath = \"\"\n",
    "wa_files = glob.glob(wa_filepath)\n",
    "stan_files = glob.glob(stan_filepath)"
   ]
  },
  {
   "cell_type": "code",
   "execution_count": null,
   "metadata": {},
   "outputs": [],
   "source": [
    "wa_files = wa_df_limited.filename.to_list()"
   ]
  },
  {
   "cell_type": "code",
   "execution_count": null,
   "metadata": {},
   "outputs": [],
   "source": [
    "wa_content = []\n",
    "wa_filepath = \"\\data\\Wablieft\\wablieft.all\\\\plain\\\\\"\n",
    "for f in wa_files:\n",
    "    with open(wa_filepath+f, encoding=\"utf8\") as file:\n",
    "        data = file.read().replace('\\n', ' ')\n",
    "    wa_content.append(data)"
   ]
  },
  {
   "cell_type": "code",
   "execution_count": null,
   "metadata": {},
   "outputs": [
    {
     "name": "stderr",
     "output_type": "stream",
     "text": [
      "c:\\Users\\Nick\\anaconda3\\envs\\thesis\\lib\\site-packages\\ipykernel_launcher.py:1: SettingWithCopyWarning: \n",
      "A value is trying to be set on a copy of a slice from a DataFrame.\n",
      "Try using .loc[row_indexer,col_indexer] = value instead\n",
      "\n",
      "See the caveats in the documentation: https://pandas.pydata.org/pandas-docs/stable/user_guide/indexing.html#returning-a-view-versus-a-copy\n",
      "  \"\"\"Entry point for launching an IPython kernel.\n"
     ]
    }
   ],
   "source": [
    "wa_df_limited[\"content\"] = wa_content"
   ]
  },
  {
   "cell_type": "code",
   "execution_count": null,
   "metadata": {},
   "outputs": [],
   "source": [
    "stan2013 = stan_df_limited[stan_df_limited['date'] > 20130000]\n",
    "stan2013 = stan2013[stan2013['date'] < 20140000]\n",
    "stan2013_files = stan2013.filename.tolist()\n",
    "\n",
    "stan2014 = stan_df_limited[stan_df_limited['date'] > 20140000]\n",
    "stan2014 = stan2014[stan2014['date'] < 20150000]\n",
    "stan2014_files = stan2014.filename.tolist()\n",
    "\n",
    "stan2015 = stan_df_limited[stan_df_limited['date'] >= 20150000]\n",
    "stan2015 = stan2015[stan2015['date'] < 20160000]\n",
    "stan2015_files = stan2015.filename.tolist()\n",
    "\n",
    "stan2016 = stan_df_limited[stan_df_limited['date'] >= 20160000]\n",
    "stan2016 = stan2016[stan2016['date'] < 20170000]\n",
    "stan2016_files = stan2016.filename.tolist()\n",
    "\n",
    "stan2017 = stan_df_limited[stan_df_limited['date'] >= 20170000]\n",
    "stan2017 = stan2017[stan2017['date'] < 20180000]\n",
    "stan2017_files = stan2017.filename.tolist()"
   ]
  },
  {
   "cell_type": "code",
   "execution_count": null,
   "metadata": {},
   "outputs": [],
   "source": [
    "stan_path = '\\data\\destandaard\\stan2013\\\\txt\\\\'\n",
    "stan_content2013 = []\n",
    "for f in stan2013_files:\n",
    "    with open(stan_path+f+\".txt\", encoding=\"utf8\") as file:\n",
    "        data = file.read().replace('\\n', ' ')\n",
    "    stan_content2013.append(data)\n",
    "\n",
    "stan_path = '\\data\\destandaard\\stan2014\\\\txt\\\\'\n",
    "stan_content2014 = []\n",
    "for f in stan2014_files:\n",
    "    with open(stan_path+f+\".txt\", encoding=\"utf8\") as file:\n",
    "        data = file.read().replace('\\n', ' ')\n",
    "    stan_content2014.append(data)\n",
    "\n",
    "stan_path = '\\data\\destandaard\\stan2015\\\\txt\\\\'\n",
    "stan_content2015 = []\n",
    "for f in stan2015_files:\n",
    "    with open(stan_path+f+\".txt\", encoding=\"utf8\") as file:\n",
    "        data = file.read().replace('\\n', ' ')\n",
    "    stan_content2015.append(data)\n",
    "\n",
    "stan_path = '\\data\\destandaard\\stan2016\\\\txt\\\\'\n",
    "stan_content2016 = []\n",
    "for f in stan2016_files:\n",
    "    with open(stan_path+f+\".txt\", encoding=\"utf8\") as file:\n",
    "        data = file.read().replace('\\n', ' ')\n",
    "    stan_content2016.append(data)\n",
    "\n",
    "stan_path = '\\data\\destandaard\\stan2017\\\\txt\\\\'\n",
    "stan_content2017 = []\n",
    "for f in stan2017_files:\n",
    "    with open(stan_path+f+\".txt\", encoding=\"utf8\") as file:\n",
    "        data = file.read().replace('\\n', ' ')\n",
    "    stan_content2017.append(data)"
   ]
  },
  {
   "cell_type": "code",
   "execution_count": null,
   "metadata": {},
   "outputs": [],
   "source": [
    "stan_content = stan_content2013 + stan_content2014 + stan_content2015 + stan_content2016 + stan_content2017"
   ]
  },
  {
   "cell_type": "code",
   "execution_count": null,
   "metadata": {},
   "outputs": [],
   "source": [
    "with open('final_wa_df.pickle', 'wb') as handle:\n",
    "    pickle.dump(wa_df_limited, handle, protocol=pickle.HIGHEST_PROTOCOL)\n",
    "\n",
    "with open('final_stan_df.pickle', 'wb') as handle:\n",
    "    pickle.dump(stan_df_limited, handle, protocol=pickle.HIGHEST_PROTOCOL)"
   ]
  },
  {
   "cell_type": "markdown",
   "metadata": {},
   "source": [
    "### Old version for all content code"
   ]
  },
  {
   "cell_type": "code",
   "execution_count": null,
   "metadata": {},
   "outputs": [],
   "source": [
    "import glob\n",
    "\n",
    "wablieft_filepath = \"\"\n",
    "stan_filepath = \"\"\n",
    "\n",
    "wa_files = glob.glob(wablieft_filepath+\"*.txt\")\n",
    "stan_files = glob.glob(stan_filepath+\"txt\\*.txt\")"
   ]
  },
  {
   "cell_type": "code",
   "execution_count": null,
   "metadata": {},
   "outputs": [],
   "source": [
    "all_wa_df= pd.DataFrame()\n",
    "wa_content = []\n",
    "for f in wa_files:\n",
    "    with open(f, encoding=\"utf8\") as file:\n",
    "        data = file.read().replace('\\n', ' ')\n",
    "    wa_content.append(data)"
   ]
  },
  {
   "cell_type": "code",
   "execution_count": null,
   "metadata": {},
   "outputs": [],
   "source": [
    "all_stan_df = pd.DataFrame()\n",
    "stan_content = []\n",
    "for f in stan_files:\n",
    "    with open(f, encoding=\"utf8\") as file:\n",
    "        data = file.read().replace('\\n', ' ')\n",
    "    stan_content.append(data)"
   ]
  },
  {
   "cell_type": "code",
   "execution_count": null,
   "metadata": {},
   "outputs": [],
   "source": [
    "all_wa_df[\"filename\"] = wa_files\n",
    "all_wa_df['content'] = wa_content\n",
    "\n",
    "all_stan_df[\"filename\"] = stan_files\n",
    "all_stan_df['content'] = stan_content"
   ]
  },
  {
   "cell_type": "code",
   "execution_count": null,
   "metadata": {},
   "outputs": [],
   "source": [
    "with open('all_wa_df.pickle', 'wb') as handle:\n",
    "    pickle.dump(all_wa_df, handle, protocol=pickle.HIGHEST_PROTOCOL)\n",
    "\n",
    "with open('all_stan_df.pickle', 'wb') as handle:\n",
    "    pickle.dump(all_stan_df, handle, protocol=pickle.HIGHEST_PROTOCOL)"
   ]
  }
 ],
 "metadata": {
  "kernelspec": {
   "display_name": "Python 3.7.10 ('thesis')",
   "language": "python",
   "name": "python3"
  },
  "language_info": {
   "name": "python",
   "version": "3.7.10"
  },
  "orig_nbformat": 4,
  "vscode": {
   "interpreter": {
    "hash": "e3456e290f23e66e65c86db29512030f5b9518fa8a585a84d9a5b83ccae9d6ed"
   }
  }
 },
 "nbformat": 4,
 "nbformat_minor": 2
}
