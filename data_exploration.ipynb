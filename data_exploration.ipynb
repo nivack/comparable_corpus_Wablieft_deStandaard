{
 "cells": [
  {
   "cell_type": "code",
   "execution_count": 1,
   "metadata": {},
   "outputs": [],
   "source": [
    "import pickle\n",
    "import numpy as np\n",
    "import pandas as pd\n",
    "from csv import writer\n",
    "import sklearn\n",
    "from sklearn import metrics\n",
    "import glob\n",
    "\n",
    "import matplotlib.pyplot as plt\n",
    "import seaborn as sns"
   ]
  },
  {
   "cell_type": "markdown",
   "metadata": {},
   "source": [
    "## Read in saved dataframes"
   ]
  },
  {
   "cell_type": "code",
   "execution_count": 2,
   "metadata": {},
   "outputs": [],
   "source": [
    "\n",
    "with open('\\\\dataframes\\\\final_wa_df.pickle', 'rb') as handle:\n",
    "    wa_df= pickle.load(handle)\n",
    "\n",
    "with open('\\\\dataframes\\\\final_stan_df.pickle', 'rb') as handle:\n",
    "    stan_df = pickle.load(handle)\n",
    "\n",
    "wa_content = wa_df.content\n",
    "stan_content = stan_df.content"
   ]
  },
  {
   "cell_type": "markdown",
   "metadata": {},
   "source": [
    "## Describe data"
   ]
  },
  {
   "cell_type": "code",
   "execution_count": 3,
   "metadata": {},
   "outputs": [
    {
     "data": {
      "text/html": [
       "<div>\n",
       "<style scoped>\n",
       "    .dataframe tbody tr th:only-of-type {\n",
       "        vertical-align: middle;\n",
       "    }\n",
       "\n",
       "    .dataframe tbody tr th {\n",
       "        vertical-align: top;\n",
       "    }\n",
       "\n",
       "    .dataframe thead th {\n",
       "        text-align: right;\n",
       "    }\n",
       "</style>\n",
       "<table border=\"1\" class=\"dataframe\">\n",
       "  <thead>\n",
       "    <tr style=\"text-align: right;\">\n",
       "      <th></th>\n",
       "      <th>filename</th>\n",
       "      <th>title</th>\n",
       "      <th>date</th>\n",
       "      <th>category</th>\n",
       "      <th>content</th>\n",
       "      <th>embeddings</th>\n",
       "    </tr>\n",
       "  </thead>\n",
       "  <tbody>\n",
       "    <tr>\n",
       "      <th>10112</th>\n",
       "      <td>wa936bik6.txt</td>\n",
       "      <td>Minder kinderen geboren</td>\n",
       "      <td>2013-01-08</td>\n",
       "      <td>België</td>\n",
       "      <td>Minder kinderen geboren In Vlaamse ziekenhuize...</td>\n",
       "      <td>[0.8717681169509888, 0.21637214720249176, 0.67...</td>\n",
       "    </tr>\n",
       "    <tr>\n",
       "      <th>10113</th>\n",
       "      <td>wa936bik7.txt</td>\n",
       "      <td>Vlaams medicijn tegen tbc</td>\n",
       "      <td>2013-01-08</td>\n",
       "      <td>België</td>\n",
       "      <td>Vlaams medicijn tegen tbc Onderzoekers van het...</td>\n",
       "      <td>[-0.1551680862903595, 0.6744857430458069, 0.13...</td>\n",
       "    </tr>\n",
       "    <tr>\n",
       "      <th>10114</th>\n",
       "      <td>wa936bik8.txt</td>\n",
       "      <td>Directrice verdacht van spieken</td>\n",
       "      <td>2013-01-08</td>\n",
       "      <td>België</td>\n",
       "      <td>Directrice verdacht van spieken De directrice ...</td>\n",
       "      <td>[-0.3453265130519867, -0.008550132624804974, -...</td>\n",
       "    </tr>\n",
       "    <tr>\n",
       "      <th>10118</th>\n",
       "      <td>wa936bin3.txt</td>\n",
       "      <td>Weinig vrouwen met sjerp in ons land</td>\n",
       "      <td>2013-01-08</td>\n",
       "      <td>België</td>\n",
       "      <td>Weinig vrouwen met sjerp in ons land In januar...</td>\n",
       "      <td>[-0.2693834602832794, 0.9814454913139343, -0.1...</td>\n",
       "    </tr>\n",
       "    <tr>\n",
       "      <th>10116</th>\n",
       "      <td>wa936bin1.txt</td>\n",
       "      <td>Noémie is Miss België</td>\n",
       "      <td>2013-01-08</td>\n",
       "      <td>België</td>\n",
       "      <td>Noémie is Miss België Noémie Happart is de moo...</td>\n",
       "      <td>[-0.3678942322731018, -0.24943530559539795, -0...</td>\n",
       "    </tr>\n",
       "    <tr>\n",
       "      <th>...</th>\n",
       "      <td>...</td>\n",
       "      <td>...</td>\n",
       "      <td>...</td>\n",
       "      <td>...</td>\n",
       "      <td>...</td>\n",
       "      <td>...</td>\n",
       "    </tr>\n",
       "    <tr>\n",
       "      <th>6084</th>\n",
       "      <td>wa1164bui5.txt</td>\n",
       "      <td>Duizenden kleine pinguïns dood</td>\n",
       "      <td>2017-11-16</td>\n",
       "      <td>Buitenland</td>\n",
       "      <td>Duizenden kleine pinguïns dood Een grote ramp ...</td>\n",
       "      <td>[-0.21590065956115723, 0.23220542073249817, -0...</td>\n",
       "    </tr>\n",
       "    <tr>\n",
       "      <th>6085</th>\n",
       "      <td>wa1164buk1.txt</td>\n",
       "      <td>Nog meer uitstel in Congo</td>\n",
       "      <td>2017-11-16</td>\n",
       "      <td>Buitenland</td>\n",
       "      <td>Nog meer uitstel in Congo In Congo komen er ge...</td>\n",
       "      <td>[-1.5455697774887085, -0.9892030358314514, 0.0...</td>\n",
       "    </tr>\n",
       "    <tr>\n",
       "      <th>6086</th>\n",
       "      <td>wa1164buk2.txt</td>\n",
       "      <td>Nieuwe regering in Nederland</td>\n",
       "      <td>2017-11-16</td>\n",
       "      <td>Buitenland</td>\n",
       "      <td>Nieuwe regering in Nederland Nederland heeft e...</td>\n",
       "      <td>[-1.0460810661315918, -0.7230560779571533, 0.5...</td>\n",
       "    </tr>\n",
       "    <tr>\n",
       "      <th>6088</th>\n",
       "      <td>wa1164idk1.txt</td>\n",
       "      <td>Ik wil onrecht aanklagen, maar liefst met een ...</td>\n",
       "      <td>2017-11-16</td>\n",
       "      <td>In de kijker</td>\n",
       "      <td>\"Ik wil onrecht aanklagen, maar liefst met een...</td>\n",
       "      <td>[-0.40642863512039185, -0.12022947520017624, 0...</td>\n",
       "    </tr>\n",
       "    <tr>\n",
       "      <th>6106</th>\n",
       "      <td>wa1164we7.txt</td>\n",
       "      <td>Een wolk tegen muggen</td>\n",
       "      <td>2017-11-16</td>\n",
       "      <td>Weetjes</td>\n",
       "      <td>Een wolk tegen muggen Een jongen loopt in Indi...</td>\n",
       "      <td>[0.1634736955165863, 0.29441991448402405, 0.15...</td>\n",
       "    </tr>\n",
       "  </tbody>\n",
       "</table>\n",
       "<p>8744 rows × 6 columns</p>\n",
       "</div>"
      ],
      "text/plain": [
       "             filename                                              title  \\\n",
       "10112   wa936bik6.txt                            Minder kinderen geboren   \n",
       "10113   wa936bik7.txt                          Vlaams medicijn tegen tbc   \n",
       "10114   wa936bik8.txt                    Directrice verdacht van spieken   \n",
       "10118   wa936bin3.txt               Weinig vrouwen met sjerp in ons land   \n",
       "10116   wa936bin1.txt                              Noémie is Miss België   \n",
       "...               ...                                                ...   \n",
       "6084   wa1164bui5.txt                     Duizenden kleine pinguïns dood   \n",
       "6085   wa1164buk1.txt                          Nog meer uitstel in Congo   \n",
       "6086   wa1164buk2.txt                       Nieuwe regering in Nederland   \n",
       "6088   wa1164idk1.txt  Ik wil onrecht aanklagen, maar liefst met een ...   \n",
       "6106    wa1164we7.txt                              Een wolk tegen muggen   \n",
       "\n",
       "            date      category  \\\n",
       "10112 2013-01-08        België   \n",
       "10113 2013-01-08        België   \n",
       "10114 2013-01-08        België   \n",
       "10118 2013-01-08        België   \n",
       "10116 2013-01-08        België   \n",
       "...          ...           ...   \n",
       "6084  2017-11-16    Buitenland   \n",
       "6085  2017-11-16    Buitenland   \n",
       "6086  2017-11-16    Buitenland   \n",
       "6088  2017-11-16  In de kijker   \n",
       "6106  2017-11-16       Weetjes   \n",
       "\n",
       "                                                 content  \\\n",
       "10112  Minder kinderen geboren In Vlaamse ziekenhuize...   \n",
       "10113  Vlaams medicijn tegen tbc Onderzoekers van het...   \n",
       "10114  Directrice verdacht van spieken De directrice ...   \n",
       "10118  Weinig vrouwen met sjerp in ons land In januar...   \n",
       "10116  Noémie is Miss België Noémie Happart is de moo...   \n",
       "...                                                  ...   \n",
       "6084   Duizenden kleine pinguïns dood Een grote ramp ...   \n",
       "6085   Nog meer uitstel in Congo In Congo komen er ge...   \n",
       "6086   Nieuwe regering in Nederland Nederland heeft e...   \n",
       "6088   \"Ik wil onrecht aanklagen, maar liefst met een...   \n",
       "6106   Een wolk tegen muggen Een jongen loopt in Indi...   \n",
       "\n",
       "                                              embeddings  \n",
       "10112  [0.8717681169509888, 0.21637214720249176, 0.67...  \n",
       "10113  [-0.1551680862903595, 0.6744857430458069, 0.13...  \n",
       "10114  [-0.3453265130519867, -0.008550132624804974, -...  \n",
       "10118  [-0.2693834602832794, 0.9814454913139343, -0.1...  \n",
       "10116  [-0.3678942322731018, -0.24943530559539795, -0...  \n",
       "...                                                  ...  \n",
       "6084   [-0.21590065956115723, 0.23220542073249817, -0...  \n",
       "6085   [-1.5455697774887085, -0.9892030358314514, 0.0...  \n",
       "6086   [-1.0460810661315918, -0.7230560779571533, 0.5...  \n",
       "6088   [-0.40642863512039185, -0.12022947520017624, 0...  \n",
       "6106   [0.1634736955165863, 0.29441991448402405, 0.15...  \n",
       "\n",
       "[8744 rows x 6 columns]"
      ]
     },
     "execution_count": 3,
     "metadata": {},
     "output_type": "execute_result"
    }
   ],
   "source": [
    "wa_df.head()"
   ]
  },
  {
   "cell_type": "code",
   "execution_count": 4,
   "metadata": {},
   "outputs": [
    {
     "data": {
      "text/html": [
       "<div>\n",
       "<style scoped>\n",
       "    .dataframe tbody tr th:only-of-type {\n",
       "        vertical-align: middle;\n",
       "    }\n",
       "\n",
       "    .dataframe tbody tr th {\n",
       "        vertical-align: top;\n",
       "    }\n",
       "\n",
       "    .dataframe thead th {\n",
       "        text-align: right;\n",
       "    }\n",
       "</style>\n",
       "<table border=\"1\" class=\"dataframe\">\n",
       "  <thead>\n",
       "    <tr style=\"text-align: right;\">\n",
       "      <th></th>\n",
       "      <th>filename</th>\n",
       "      <th>title</th>\n",
       "      <th>date</th>\n",
       "      <th>category</th>\n",
       "      <th>content</th>\n",
       "      <th>embeddings</th>\n",
       "    </tr>\n",
       "  </thead>\n",
       "  <tbody>\n",
       "    <tr>\n",
       "      <th>0</th>\n",
       "      <td>De_Standaard-2013-01-02.1-1_DA(1).000001#2n.xml</td>\n",
       "      <td>No title</td>\n",
       "      <td>2013-01-02</td>\n",
       "      <td>REG</td>\n",
       "      <td>ANTWERPEN CARTOON'S : Kaasstraat 4-6 ( 03232.9...</td>\n",
       "      <td>[0.12364207208156586, 0.616053581237793, -0.94...</td>\n",
       "    </tr>\n",
       "    <tr>\n",
       "      <th>77</th>\n",
       "      <td>De_Standaard-2013-01-02.1-1_DB(91).000001#2n.xml</td>\n",
       "      <td>2008</td>\n",
       "      <td>2013-01-02</td>\n",
       "      <td>ECO</td>\n",
       "      <td>2008 1. Barack Obama 2. Baarmoederhalskankerva...</td>\n",
       "      <td>[0.5498160123825073, 0.4841672480106354, -0.06...</td>\n",
       "    </tr>\n",
       "    <tr>\n",
       "      <th>76</th>\n",
       "      <td>De_Standaard-2013-01-02.1-1_DB(89).000001#2n.xml</td>\n",
       "      <td>SCHIETEN NAAST DE SCHOOL</td>\n",
       "      <td>2013-01-02</td>\n",
       "      <td>BIBU</td>\n",
       "      <td>SCHIETEN NAAST DE SCHOOL In Syrië is het nieuw...</td>\n",
       "      <td>[-0.4185646176338196, -0.7888291478157043, -0....</td>\n",
       "    </tr>\n",
       "    <tr>\n",
       "      <th>75</th>\n",
       "      <td>De_Standaard-2013-01-02.1-1_DB(88).000001#2n.xml</td>\n",
       "      <td>Tientallen doden na paniek bij vuurwerk</td>\n",
       "      <td>2013-01-02</td>\n",
       "      <td>BIBU</td>\n",
       "      <td>Tientallen doden na paniek bij vuurwerk Abidja...</td>\n",
       "      <td>[-0.47230836749076843, -0.4041571617126465, -0...</td>\n",
       "    </tr>\n",
       "    <tr>\n",
       "      <th>74</th>\n",
       "      <td>De_Standaard-2013-01-02.1-1_DB(87).000001#2n.xml</td>\n",
       "      <td>2010</td>\n",
       "      <td>2013-01-02</td>\n",
       "      <td>ECO</td>\n",
       "      <td>2010 1. iPad 2. Wikileaks 3. Benidorm Bastards...</td>\n",
       "      <td>[0.03733360022306442, 0.35339534282684326, -0....</td>\n",
       "    </tr>\n",
       "    <tr>\n",
       "      <th>...</th>\n",
       "      <td>...</td>\n",
       "      <td>...</td>\n",
       "      <td>...</td>\n",
       "      <td>...</td>\n",
       "      <td>...</td>\n",
       "      <td>...</td>\n",
       "    </tr>\n",
       "    <tr>\n",
       "      <th>5710</th>\n",
       "      <td>278b7cac-ca2f-11e7-92e4-9b28e8def83c_DB.000001...</td>\n",
       "      <td>Brie Larson onder vuur voor haar rol in 'Basma...</td>\n",
       "      <td>2017-11-16</td>\n",
       "      <td>DS2</td>\n",
       "      <td>Film Brie Larson onder vuur voor haar rol in '...</td>\n",
       "      <td>[-0.39755165576934814, 0.09898927062749863, -0...</td>\n",
       "    </tr>\n",
       "    <tr>\n",
       "      <th>26237</th>\n",
       "      <td>ba0d9754-ca25-11e7-8c1a-761564dfdb46_DB.000001...</td>\n",
       "      <td>No title</td>\n",
       "      <td>2017-11-16</td>\n",
       "      <td>Sport</td>\n",
       "      <td>' Als het nieuwe onderzoek volgens plan verloo...</td>\n",
       "      <td>[-1.2090281248092651, 0.4535748064517975, 0.42...</td>\n",
       "    </tr>\n",
       "    <tr>\n",
       "      <th>11886</th>\n",
       "      <td>53d3ae50-ca26-11e7-8c1a-761564dfdb46_DB.000001...</td>\n",
       "      <td>Handelaars lanceren eigen Oranjepas</td>\n",
       "      <td>2017-11-16</td>\n",
       "      <td>Regio Vlaams-Brabant</td>\n",
       "      <td>Diest Handelaars lanceren eigen Oranjepas Dies...</td>\n",
       "      <td>[-0.4931115508079529, 0.8239607214927673, -0.1...</td>\n",
       "    </tr>\n",
       "    <tr>\n",
       "      <th>12542</th>\n",
       "      <td>58e7a054-ca3f-11e7-92e4-9b28e8def83c_DB.000001...</td>\n",
       "      <td>Meer schadeclaims na politieacties</td>\n",
       "      <td>2017-11-16</td>\n",
       "      <td>Binnenland</td>\n",
       "      <td>Justitie Meer schadeclaims na politieacties Ee...</td>\n",
       "      <td>[-1.2051165103912354, 0.5310210585594177, 0.00...</td>\n",
       "    </tr>\n",
       "    <tr>\n",
       "      <th>20323</th>\n",
       "      <td>90088336-ca13-11e7-8c1a-761564dfdb46_DW.000001...</td>\n",
       "      <td>In een witte Mercedes naar de operatiezaal</td>\n",
       "      <td>2017-11-16</td>\n",
       "      <td>Regio West-Vlaanderen</td>\n",
       "      <td>In een witte Mercedes naar de operatiezaal Jon...</td>\n",
       "      <td>[-0.7106432914733887, 0.2959219515323639, -0.3...</td>\n",
       "    </tr>\n",
       "  </tbody>\n",
       "</table>\n",
       "<p>202284 rows × 6 columns</p>\n",
       "</div>"
      ],
      "text/plain": [
       "                                                filename  \\\n",
       "0        De_Standaard-2013-01-02.1-1_DA(1).000001#2n.xml   \n",
       "77      De_Standaard-2013-01-02.1-1_DB(91).000001#2n.xml   \n",
       "76      De_Standaard-2013-01-02.1-1_DB(89).000001#2n.xml   \n",
       "75      De_Standaard-2013-01-02.1-1_DB(88).000001#2n.xml   \n",
       "74      De_Standaard-2013-01-02.1-1_DB(87).000001#2n.xml   \n",
       "...                                                  ...   \n",
       "5710   278b7cac-ca2f-11e7-92e4-9b28e8def83c_DB.000001...   \n",
       "26237  ba0d9754-ca25-11e7-8c1a-761564dfdb46_DB.000001...   \n",
       "11886  53d3ae50-ca26-11e7-8c1a-761564dfdb46_DB.000001...   \n",
       "12542  58e7a054-ca3f-11e7-92e4-9b28e8def83c_DB.000001...   \n",
       "20323  90088336-ca13-11e7-8c1a-761564dfdb46_DW.000001...   \n",
       "\n",
       "                                                   title       date  \\\n",
       "0                                               No title 2013-01-02   \n",
       "77                                                  2008 2013-01-02   \n",
       "76                              SCHIETEN NAAST DE SCHOOL 2013-01-02   \n",
       "75               Tientallen doden na paniek bij vuurwerk 2013-01-02   \n",
       "74                                                  2010 2013-01-02   \n",
       "...                                                  ...        ...   \n",
       "5710   Brie Larson onder vuur voor haar rol in 'Basma... 2017-11-16   \n",
       "26237                                           No title 2017-11-16   \n",
       "11886                Handelaars lanceren eigen Oranjepas 2017-11-16   \n",
       "12542                 Meer schadeclaims na politieacties 2017-11-16   \n",
       "20323         In een witte Mercedes naar de operatiezaal 2017-11-16   \n",
       "\n",
       "                    category  \\\n",
       "0                        REG   \n",
       "77                       ECO   \n",
       "76                      BIBU   \n",
       "75                      BIBU   \n",
       "74                       ECO   \n",
       "...                      ...   \n",
       "5710                     DS2   \n",
       "26237                  Sport   \n",
       "11886   Regio Vlaams-Brabant   \n",
       "12542             Binnenland   \n",
       "20323  Regio West-Vlaanderen   \n",
       "\n",
       "                                                 content  \\\n",
       "0      ANTWERPEN CARTOON'S : Kaasstraat 4-6 ( 03232.9...   \n",
       "77     2008 1. Barack Obama 2. Baarmoederhalskankerva...   \n",
       "76     SCHIETEN NAAST DE SCHOOL In Syrië is het nieuw...   \n",
       "75     Tientallen doden na paniek bij vuurwerk Abidja...   \n",
       "74     2010 1. iPad 2. Wikileaks 3. Benidorm Bastards...   \n",
       "...                                                  ...   \n",
       "5710   Film Brie Larson onder vuur voor haar rol in '...   \n",
       "26237  ' Als het nieuwe onderzoek volgens plan verloo...   \n",
       "11886  Diest Handelaars lanceren eigen Oranjepas Dies...   \n",
       "12542  Justitie Meer schadeclaims na politieacties Ee...   \n",
       "20323  In een witte Mercedes naar de operatiezaal Jon...   \n",
       "\n",
       "                                              embeddings  \n",
       "0      [0.12364207208156586, 0.616053581237793, -0.94...  \n",
       "77     [0.5498160123825073, 0.4841672480106354, -0.06...  \n",
       "76     [-0.4185646176338196, -0.7888291478157043, -0....  \n",
       "75     [-0.47230836749076843, -0.4041571617126465, -0...  \n",
       "74     [0.03733360022306442, 0.35339534282684326, -0....  \n",
       "...                                                  ...  \n",
       "5710   [-0.39755165576934814, 0.09898927062749863, -0...  \n",
       "26237  [-1.2090281248092651, 0.4535748064517975, 0.42...  \n",
       "11886  [-0.4931115508079529, 0.8239607214927673, -0.1...  \n",
       "12542  [-1.2051165103912354, 0.5310210585594177, 0.00...  \n",
       "20323  [-0.7106432914733887, 0.2959219515323639, -0.3...  \n",
       "\n",
       "[202284 rows x 6 columns]"
      ]
     },
     "execution_count": 4,
     "metadata": {},
     "output_type": "execute_result"
    }
   ],
   "source": [
    "stan_df.head()"
   ]
  },
  {
   "cell_type": "code",
   "execution_count": 5,
   "metadata": {},
   "outputs": [],
   "source": [
    "wa_df = wa_df[wa_df.title != 'No title']\n",
    "stan_df = stan_df[stan_df.title != 'No title']"
   ]
  },
  {
   "cell_type": "code",
   "execution_count": 11,
   "metadata": {},
   "outputs": [],
   "source": [
    "split_wa_content = wa_content.str.split().map(lambda x: len(x))\n",
    "split_stan_content = stan_content.str.split().map(lambda x: len(x))"
   ]
  },
  {
   "cell_type": "code",
   "execution_count": 45,
   "metadata": {},
   "outputs": [
    {
     "name": "stdout",
     "output_type": "stream",
     "text": [
      "481\n",
      "36\n"
     ]
    }
   ],
   "source": [
    "print(split_wa_content[split_wa_content > 400].shape[0])\n",
    "print(split_stan_content[split_stan_content > 400].shape[0])"
   ]
  },
  {
   "cell_type": "code",
   "execution_count": 18,
   "metadata": {},
   "outputs": [
    {
     "data": {
      "text/plain": [
       "0"
      ]
     },
     "execution_count": 18,
     "metadata": {},
     "output_type": "execute_result"
    }
   ],
   "source": [
    "split_wa_content[split_wa_content==0].count()"
   ]
  },
  {
   "cell_type": "code",
   "execution_count": 17,
   "metadata": {},
   "outputs": [
    {
     "data": {
      "text/plain": [
       "0"
      ]
     },
     "execution_count": 17,
     "metadata": {},
     "output_type": "execute_result"
    }
   ],
   "source": [
    "split_stan_content[split_stan_content==0].count()"
   ]
  },
  {
   "cell_type": "code",
   "execution_count": 7,
   "metadata": {},
   "outputs": [
    {
     "data": {
      "text/plain": [
       "count    8744.000000\n",
       "mean      161.982960\n",
       "std       142.920961\n",
       "min         3.000000\n",
       "25%        83.000000\n",
       "50%       100.000000\n",
       "75%       195.000000\n",
       "90%       261.000000\n",
       "95%       425.000000\n",
       "99%       783.000000\n",
       "max      1558.000000\n",
       "Name: content, dtype: float64"
      ]
     },
     "execution_count": 7,
     "metadata": {},
     "output_type": "execute_result"
    }
   ],
   "source": [
    "split_wa_content.describe(percentiles=[.25, .50, .75, .90, .95, .99])"
   ]
  },
  {
   "cell_type": "code",
   "execution_count": 179,
   "metadata": {},
   "outputs": [
    {
     "data": {
      "text/plain": [
       "count    202284.000000\n",
       "mean        372.629333\n",
       "std         370.773138\n",
       "min           0.000000\n",
       "25%         119.000000\n",
       "50%         266.000000\n",
       "75%         524.000000\n",
       "90%         802.000000\n",
       "95%         965.000000\n",
       "99%        1726.000000\n",
       "max       24140.000000\n",
       "Name: content, dtype: float64"
      ]
     },
     "execution_count": 179,
     "metadata": {},
     "output_type": "execute_result"
    }
   ],
   "source": [
    "split_stan_content.describe(percentiles=[.25, .50, .75, .90, .95, .99])"
   ]
  },
  {
   "cell_type": "markdown",
   "metadata": {},
   "source": [
    "## Visualize data\n"
   ]
  },
  {
   "cell_type": "code",
   "execution_count": 29,
   "metadata": {},
   "outputs": [
    {
     "data": {
      "text/plain": [
       "Text(0, 0.5, 'Count of articles')"
      ]
     },
     "execution_count": 29,
     "metadata": {},
     "output_type": "execute_result"
    },
    {
     "data": {
      "image/png": "[encoded data removed]",
      "text/plain": [
       "<Figure size 432x288 with 1 Axes>"
      ]
     },
     "metadata": {
      "needs_background": "light"
     },
     "output_type": "display_data"
    }
   ],
   "source": [
    "fig, ax = plt.subplots()\n",
    "sns.histplot(split_wa_content, ax=ax)\n",
    "ax.set_xlim(right=1000)\n",
    "plt.title(\"Wablief articles word count\")\n",
    "plt.xlabel(\"Count of words\")\n",
    "plt.ylabel(\"Count of articles\")"
   ]
  },
  {
   "cell_type": "code",
   "execution_count": 30,
   "metadata": {},
   "outputs": [
    {
     "data": {
      "text/plain": [
       "Text(0, 0.5, 'Number of articles')"
      ]
     },
     "execution_count": 30,
     "metadata": {},
     "output_type": "execute_result"
    },
    {
     "data": {
      "image/png": "[encoded data removed]",
      "text/plain": [
       "<Figure size 432x288 with 1 Axes>"
      ]
     },
     "metadata": {
      "needs_background": "light"
     },
     "output_type": "display_data"
    }
   ],
   "source": [
    "fig, ax = plt.subplots()\n",
    "sns.histplot(split_stan_content, ax=ax)\n",
    "ax.set_xlim(left=-100,right=2000)\n",
    "plt.title(\"Standaard articles word count\")\n",
    "plt.xlabel(\"Number of words\")\n",
    "plt.ylabel(\"Number of articles\")"
   ]
  },
  {
   "cell_type": "code",
   "execution_count": 49,
   "metadata": {},
   "outputs": [],
   "source": [
    "split_wa_content = pd.DataFrame(split_wa_content)\n",
    "split_stan_content = pd.DataFrame(split_stan_content)\n",
    "both_split_df = pd.concat([split_wa_content.assign(dataset='Wablieft'), split_stan_content.assign(dataset='Standaard')])"
   ]
  },
  {
   "cell_type": "code",
   "execution_count": 55,
   "metadata": {},
   "outputs": [
    {
     "data": {
      "text/plain": [
       "Text(0, 0.5, 'Number of articles')"
      ]
     },
     "execution_count": 55,
     "metadata": {},
     "output_type": "execute_result"
    },
    {
     "data": {
      "image/png": "[encoded data removed]",
      "text/plain": [
       "<Figure size 432x288 with 1 Axes>"
      ]
     },
     "metadata": {
      "needs_background": "light"
     },
     "output_type": "display_data"
    }
   ],
   "source": [
    "fig, ax = plt.subplots()\n",
    "sns.histplot(both_split_df, x = 'content', ax=ax, hue=\"dataset\")\n",
    "ax.set_xlim(left=-100,right=3000)\n",
    "plt.title(\"Standaard articles word count\")\n",
    "plt.xlabel(\"Number of words\")\n",
    "plt.ylabel(\"Number of articles\")"
   ]
  },
  {
   "cell_type": "markdown",
   "metadata": {},
   "source": [
    "#### Describe top1 similarity scores of pairs -- MQA finetuned en RobBERT base finetuned"
   ]
  },
  {
   "cell_type": "code",
   "execution_count": 4,
   "metadata": {},
   "outputs": [],
   "source": [
    "with open('comparable_corpora\\similarity_scores\\\\top1SimScoreListmqaWaStan.pickle', 'rb') as handle:\n",
    "    mqa_top1 = pickle.load(handle)"
   ]
  },
  {
   "cell_type": "code",
   "execution_count": 20,
   "metadata": {},
   "outputs": [],
   "source": [
    "mqa_df = pd.DataFrame(mqa_top1)"
   ]
  },
  {
   "cell_type": "code",
   "execution_count": 29,
   "metadata": {},
   "outputs": [
    {
     "data": {
      "text/html": [
       "<div>\n",
       "<style scoped>\n",
       "    .dataframe tbody tr th:only-of-type {\n",
       "        vertical-align: middle;\n",
       "    }\n",
       "\n",
       "    .dataframe tbody tr th {\n",
       "        vertical-align: top;\n",
       "    }\n",
       "\n",
       "    .dataframe thead th {\n",
       "        text-align: right;\n",
       "    }\n",
       "</style>\n",
       "<table border=\"1\" class=\"dataframe\">\n",
       "  <thead>\n",
       "    <tr style=\"text-align: right;\">\n",
       "      <th></th>\n",
       "      <th>0</th>\n",
       "    </tr>\n",
       "  </thead>\n",
       "  <tbody>\n",
       "    <tr>\n",
       "      <th>count</th>\n",
       "      <td>8701.000000</td>\n",
       "    </tr>\n",
       "    <tr>\n",
       "      <th>mean</th>\n",
       "      <td>0.657086</td>\n",
       "    </tr>\n",
       "    <tr>\n",
       "      <th>std</th>\n",
       "      <td>0.110917</td>\n",
       "    </tr>\n",
       "    <tr>\n",
       "      <th>min</th>\n",
       "      <td>0.330495</td>\n",
       "    </tr>\n",
       "    <tr>\n",
       "      <th>10%</th>\n",
       "      <td>0.508330</td>\n",
       "    </tr>\n",
       "    <tr>\n",
       "      <th>25%</th>\n",
       "      <td>0.570291</td>\n",
       "    </tr>\n",
       "    <tr>\n",
       "      <th>50%</th>\n",
       "      <td>0.660437</td>\n",
       "    </tr>\n",
       "    <tr>\n",
       "      <th>75%</th>\n",
       "      <td>0.745858</td>\n",
       "    </tr>\n",
       "    <tr>\n",
       "      <th>90%</th>\n",
       "      <td>0.800843</td>\n",
       "    </tr>\n",
       "    <tr>\n",
       "      <th>max</th>\n",
       "      <td>0.940696</td>\n",
       "    </tr>\n",
       "  </tbody>\n",
       "</table>\n",
       "</div>"
      ],
      "text/plain": [
       "                 0\n",
       "count  8701.000000\n",
       "mean      0.657086\n",
       "std       0.110917\n",
       "min       0.330495\n",
       "10%       0.508330\n",
       "25%       0.570291\n",
       "50%       0.660437\n",
       "75%       0.745858\n",
       "90%       0.800843\n",
       "max       0.940696"
      ]
     },
     "execution_count": 29,
     "metadata": {},
     "output_type": "execute_result"
    }
   ],
   "source": [
    "mqa_df.describe(percentiles=[0.10, 0.25, 0.50, 0.75, 0.90])"
   ]
  },
  {
   "cell_type": "code",
   "execution_count": 27,
   "metadata": {},
   "outputs": [
    {
     "data": {
      "text/plain": [
       "Text(0, 0.5, 'Amount')"
      ]
     },
     "execution_count": 27,
     "metadata": {},
     "output_type": "execute_result"
    },
    {
     "data": {
      "image/png": "[encoded data removed]",
      "text/plain": [
       "<Figure size 432x288 with 1 Axes>"
      ]
     },
     "metadata": {
      "needs_background": "light"
     },
     "output_type": "display_data"
    }
   ],
   "source": [
    "# -- robbert-v2-dutch-base-mqa-finetuned\n",
    "fig, ax = plt.subplots()\n",
    "sns.histplot(mqa_top1, ax=ax)\n",
    "ax.set_xlim(left=0.2,right=1)\n",
    "plt.title(\"Top 1 similarity score distribution \")\n",
    "plt.xlabel(\"Similarity score\")\n",
    "plt.ylabel(\"Amount\")"
   ]
  },
  {
   "cell_type": "code",
   "execution_count": 9,
   "metadata": {},
   "outputs": [],
   "source": [
    "with open('comparable_corpora\\similarity_scores\\\\top1SimScoreListRobBERTWaStan.pickle', 'rb') as handle:\n",
    "    robbert_top1 = pickle.load(handle)"
   ]
  },
  {
   "cell_type": "code",
   "execution_count": 18,
   "metadata": {},
   "outputs": [],
   "source": [
    "robbert_df = pd.DataFrame(robbert_top1)"
   ]
  },
  {
   "cell_type": "code",
   "execution_count": 30,
   "metadata": {},
   "outputs": [
    {
     "data": {
      "text/html": [
       "<div>\n",
       "<style scoped>\n",
       "    .dataframe tbody tr th:only-of-type {\n",
       "        vertical-align: middle;\n",
       "    }\n",
       "\n",
       "    .dataframe tbody tr th {\n",
       "        vertical-align: top;\n",
       "    }\n",
       "\n",
       "    .dataframe thead th {\n",
       "        text-align: right;\n",
       "    }\n",
       "</style>\n",
       "<table border=\"1\" class=\"dataframe\">\n",
       "  <thead>\n",
       "    <tr style=\"text-align: right;\">\n",
       "      <th></th>\n",
       "      <th>0</th>\n",
       "    </tr>\n",
       "  </thead>\n",
       "  <tbody>\n",
       "    <tr>\n",
       "      <th>count</th>\n",
       "      <td>8701.000000</td>\n",
       "    </tr>\n",
       "    <tr>\n",
       "      <th>mean</th>\n",
       "      <td>0.655384</td>\n",
       "    </tr>\n",
       "    <tr>\n",
       "      <th>std</th>\n",
       "      <td>0.072646</td>\n",
       "    </tr>\n",
       "    <tr>\n",
       "      <th>min</th>\n",
       "      <td>0.332692</td>\n",
       "    </tr>\n",
       "    <tr>\n",
       "      <th>10%</th>\n",
       "      <td>0.563565</td>\n",
       "    </tr>\n",
       "    <tr>\n",
       "      <th>25%</th>\n",
       "      <td>0.608197</td>\n",
       "    </tr>\n",
       "    <tr>\n",
       "      <th>50%</th>\n",
       "      <td>0.655903</td>\n",
       "    </tr>\n",
       "    <tr>\n",
       "      <th>75%</th>\n",
       "      <td>0.702554</td>\n",
       "    </tr>\n",
       "    <tr>\n",
       "      <th>90%</th>\n",
       "      <td>0.746049</td>\n",
       "    </tr>\n",
       "    <tr>\n",
       "      <th>max</th>\n",
       "      <td>0.935655</td>\n",
       "    </tr>\n",
       "  </tbody>\n",
       "</table>\n",
       "</div>"
      ],
      "text/plain": [
       "                 0\n",
       "count  8701.000000\n",
       "mean      0.655384\n",
       "std       0.072646\n",
       "min       0.332692\n",
       "10%       0.563565\n",
       "25%       0.608197\n",
       "50%       0.655903\n",
       "75%       0.702554\n",
       "90%       0.746049\n",
       "max       0.935655"
      ]
     },
     "execution_count": 30,
     "metadata": {},
     "output_type": "execute_result"
    }
   ],
   "source": [
    "robbert_df.describe(percentiles=[0.10, 0.25, 0.50, 0.75, 0.90])"
   ]
  },
  {
   "cell_type": "code",
   "execution_count": 31,
   "metadata": {},
   "outputs": [
    {
     "data": {
      "text/plain": [
       "Text(0, 0.5, 'Amount')"
      ]
     },
     "execution_count": 31,
     "metadata": {},
     "output_type": "execute_result"
    },
    {
     "data": {
      "image/png": "[encoded data removed]",
      "text/plain": [
       "<Figure size 432x288 with 1 Axes>"
      ]
     },
     "metadata": {
      "needs_background": "light"
     },
     "output_type": "display_data"
    }
   ],
   "source": [
    "# robbert-v2-dutch-base\n",
    "fig, ax = plt.subplots()\n",
    "sns.histplot(robbert_top1, ax=ax)\n",
    "ax.set_xlim(left=0.2,right=1)\n",
    "plt.title(\"Top 1 similarity score distribution \")\n",
    "plt.xlabel(\"Similarity score\")\n",
    "plt.ylabel(\"Amount\")\n"
   ]
  },
  {
   "cell_type": "markdown",
   "metadata": {},
   "source": [
    "#### Describe manually scored data"
   ]
  },
  {
   "cell_type": "code",
   "execution_count": 12,
   "metadata": {},
   "outputs": [],
   "source": [
    "matchesList = [0.7697,\n",
    "        0.72141486,\n",
    "        0.71388,\n",
    "        0.788607,\n",
    "        0.836498,\n",
    "        0.704664,\n",
    "        0.7805206,\n",
    "        0.80987,\n",
    "        0.797313,\n",
    "        0.743338346,\n",
    "        0.799838,\n",
    "        0.781242,\n",
    "        0.673715,\n",
    "        0.7851778864,\n",
    "        0.680668,\n",
    "        0.8285657,\n",
    "        0.77680337,\n",
    "        0.89255422,\n",
    "        0.710689,\n",
    "        0.792078137,\n",
    "        0.75573337,\n",
    "        0.8639686,\n",
    "        0.923899,\n",
    "        0.8299018,\n",
    "        0.818773388,\n",
    "        0.774552166,\n",
    "        0.791702,\n",
    "        0.6543264,\n",
    "        0.788223028,\n",
    "        0.7355657,\n",
    "        0.67106187,\n",
    "        0.580847,\n",
    "        0.627487,\n",
    "        0.66209,\n",
    "        0.681355,\n",
    "        0.768626,\n",
    "        0.733748,\n",
    "        0.69154,\n",
    "        0.51817,\n",
    "        0.681477,\n",
    "        0.78126,\n",
    "        0.7633886,\n",
    "        0.8638988,\n",
    "        0.5258505,\n",
    "        0.783164,\n",
    "        0.777009,\n",
    "        0.64473,\n",
    "        0.729588,\n",
    "        0.763598,\n",
    "        0.8209926,\n",
    "        0.8132002,\n",
    "        0.7953649,\n",
    "        0.776327,\n",
    "        0.755874,\n",
    "        0.756482899,\n",
    "        0.75797,\n",
    "        0.7536767,\n",
    "        0.6356,\n",
    "        0.708218,\n",
    "        0.76766467,\n",
    "        0.7696149,\n",
    "        0.61336,\n",
    "        0.6577181,\n",
    "        0.7659018,\n",
    "        0.759663,\n",
    "        0.76228386,\n",
    "        0.85247099,\n",
    "        0.73827588,\n",
    "        0.4924735,\n",
    "        0.7233466,\n",
    "        0.76480269,\n",
    "        0.63647,\n",
    "        0.72138,\n",
    "        0.8175677,\n",
    "        0.70753,\n",
    "        0.737872,\n",
    "        0.753278,\n",
    "        0.838064,\n",
    "        0.726966,\n",
    "        0.8079567,\n",
    "        0.653346,\n",
    "        0.74183446,\n",
    "        0.81097239,\n",
    "        0.689377367,\n",
    "        0.62185,\n",
    "        0.75594,\n",
    "        0.7558307,\n",
    "        0.7798176,\n",
    "        0.847305,\n",
    "        0.754778,\n",
    "        0.642159,\n",
    "        0.74452215,\n",
    "        0.7798978,\n",
    "        0.75354,\n",
    "        0.5777378,\n",
    "        0.799755,\n",
    "        0.73424,\n",
    "        0.5977584,\n",
    "        0.686517,\n",
    "        0.6422056,\n",
    "        0.6759755,\n",
    "        0.695020914,\n",
    "        0.853763,\n",
    "        0.82201665,\n",
    "        0.69139,\n",
    "        0.631638,\n",
    "        0.76909,\n",
    "        0.847588956,\n",
    "        0.79919,\n",
    "        0.78601,\n",
    "        0.7322576,\n",
    "        0.7635,\n",
    "        0.77563,\n",
    "        0.72278499,\n",
    "        0.811708,\n",
    "        0.66525,\n",
    "        0.6677179,\n",
    "        0.78369,\n",
    "        0.6500568,\n",
    "        0.76673,\n",
    "        0.718989,\n",
    "        0.73766,\n",
    "        0.77780485,\n",
    "        0.751827,\n",
    "        0.77792,\n",
    "        0.5125471,\n",
    "        0.7146214,\n",
    "        0.712471485,\n",
    "        0.64337754249,\n",
    "        0.666738927,\n",
    "        0.6788367629,\n",
    "        0.6716255,\n",
    "        0.843695998,\n",
    "        0.674108445644,\n",
    "        0.7829052805,\n",
    "        0.70365959405899,\n",
    "        0.77655506,\n",
    "        0.6633684635,\n",
    "        0.8291893601,\n",
    "        0.7387883067,\n",
    "        0.73019278049,\n",
    "        0.6969285607,\n",
    "        0.714788675,\n",
    "        0.760915637,\n",
    "        0.8273297548,\n",
    "        0.923899471759,\n",
    "        0.9047259688,\n",
    "        0.9037084579467,\n",
    "        0.5706487298,\n",
    "        0.77131378,\n",
    "        0.818009138,\n",
    "        0.7564840316,\n",
    "        0.7415358424,\n",
    "        0.83821976,\n",
    "        0.7958508729934,\n",
    "        0.816393852233,\n",
    "        0.855634,\n",
    "        0.764023065567,\n",
    "        0.6651859879,\n",
    "        0.639792382717,\n",
    "        0.7571749687,\n",
    "        0.82533246,\n",
    "        0.834297776,\n",
    "        0.833146095,\n",
    "        0.83930498361,\n",
    "        0.61638921499,\n",
    "        0.543234169,\n",
    "        0.7669585347,\n",
    "        0.6891207098,\n",
    "        0.63000345,\n",
    "        0.752358198,\n",
    "        0.78967285,\n",
    "        0.760514676,\n",
    "        0.6784633994,\n",
    "        0.7990390658,\n",
    "        0.860850214958,\n",
    "        0.689050734,\n",
    "        0.711645185947,\n",
    "        0.746158,\n",
    "        0.74563032,\n",
    "        0.7669916749,\n",
    "        0.7235053777,\n",
    "        0.8123298,\n",
    "        0.6792410016,\n",
    "        0.701078534,\n",
    "        0.71442246437,\n",
    "        0.722155749,\n",
    "        0.80628609,\n",
    "        0.7795466184616,\n",
    "        0.739085,\n",
    "        0.78737384,\n",
    "        0.823471367,\n",
    "        0.637516,\n",
    "        0.7135028,\n",
    "        0.64341038,\n",
    "        0.6608159,\n",
    "        0.79101634,\n",
    "        0.60918426,\n",
    "        0.6051189899,\n",
    "        0.72729367,\n",
    "        0.89086,\n",
    "        0.6616236,\n",
    "        0.71711957,\n",
    "        0.69035869,\n",
    "        0.6787018,\n",
    "        0.6538558,\n",
    "        0.74488943815,\n",
    "        0.791976,\n",
    "        0.82162,\n",
    "        0.7984265089,\n",
    "        0.76979,\n",
    "        0.6847710609,\n",
    "        0.8136815,\n",
    "        0.6635019,\n",
    "        0.87014955,\n",
    "        0.820418238,\n",
    "        0.74413615,\n",
    "        0.69744706,\n",
    "        0.7076369,\n",
    "        0.704141259,\n",
    "        0.772098,\n",
    "        0.7256688,\n",
    "        0.74525088,\n",
    "        0.771788299,\n",
    "        0.88479,\n",
    "        0.78804278,\n",
    "        0.703075,\n",
    "        0.581823587,\n",
    "        0.7161303,\n",
    "        0.72783309,\n",
    "        0.787395,\n",
    "        0.714924,\n",
    "        0.7885076999,\n",
    "        0.7974855899,\n",
    "        0.82318055,\n",
    "        0.732838809,\n",
    "        0.66058075,\n",
    "        0.719847,\n",
    "        0.809242546,\n",
    "        0.7810799,\n",
    "        0.746488,\n",
    "        0.68827325,\n",
    "        0.62747842,\n",
    "        0.70261967,\n",
    "        0.8243128,\n",
    "        0.7264975309,\n",
    "        0.7546389,\n",
    "        0.7904949,\n",
    "        0.73430216,\n",
    "        0.739148557,\n",
    "        0.64654779,\n",
    "        0.81631809,\n",
    "        0.7605623,\n",
    "        0.4436697,\n",
    "        0.7363989,\n",
    "        0.840628445,\n",
    "        0.7958248,\n",
    "        0.8284159,\n",
    "        0.81944477,\n",
    "        0.7998687,\n",
    "        0.7483889,\n",
    "        0.76568597,\n",
    "        0.778772,\n",
    "        0.77987897,\n",
    "        0.773603618,\n",
    "        0.800198,\n",
    "        0.73052,\n",
    "        0.7266547,\n",
    "        0.727787077,\n",
    "        0.6135877,\n",
    "        0.6108038,\n",
    "        0.710565,\n",
    "        0.6744478\n",
    "        ]\n"
   ]
  },
  {
   "cell_type": "code",
   "execution_count": 13,
   "metadata": {},
   "outputs": [],
   "source": [
    "noMatchesList = [\n",
    "    0.5535407,\n",
    "    0.6986519,\n",
    "    0.51107543,\n",
    "    0.4589526,\n",
    "    0.5063756,\n",
    "    0.52886277,\n",
    "    0.5447489,\n",
    "    0.55582004,\n",
    "    0.57022494,\n",
    "    0.552105307579,\n",
    "    0.6082630157,\n",
    "    0.57582497,\n",
    "    0.63724285,\n",
    "    0.61024689,\n",
    "    0.5978436,\n",
    "    0.595395088,\n",
    "    0.5180177,\n",
    "    0.622035026,\n",
    "    0.689134597,\n",
    "    0.48909914449,\n",
    "    0.498851418,\n",
    "    0.44220787,\n",
    "    0.512252509,\n",
    "    0.548665285,\n",
    "    0.5386719,\n",
    "    0.50775814056,\n",
    "    0.4760343,\n",
    "    0.569921,\n",
    "    0.4769304,\n",
    "    0.571814239,\n",
    "    0.5141970515,\n",
    "    0.55523240566,\n",
    "    0.6670523881,\n",
    "    0.65486276,\n",
    "    0.642258465,\n",
    "    0.5293843746,\n",
    "    0.622388899,\n",
    "    0.59334117174,\n",
    "    0.6066381335,\n",
    "    0.52446991205,\n",
    "    0.660279095,\n",
    "    0.61309307,\n",
    "    0.61719208955,\n",
    "    0.509504199,\n",
    "    0.53461307,\n",
    "    0.55632734,\n",
    "    0.5305280089378,\n",
    "    0.5029930472,\n",
    "    0.60603237,\n",
    "    0.49210578,\n",
    "    0.635853469,\n",
    "    0.6405651569,\n",
    "    0.678285896778,\n",
    "    0.513371527,\n",
    "    0.71126574,\n",
    "    0.455496877,\n",
    "    0.67995160818,\n",
    "    0.691637158,\n",
    "    0.637583673,\n",
    "    0.63278347,\n",
    "    0.4872620998,\n",
    "    0.668940067,\n",
    "    0.61449253559,\n",
    "    0.554829,\n",
    "    0.4880725,\n",
    "    0.54832077026,\n",
    "    0.5618026256,\n",
    "    0.56353968,\n",
    "    0.489055693149,\n",
    "    0.46197,\n",
    "    0.55689138,\n",
    "    0.640002429,\n",
    "    0.54211628,\n",
    "    0.557211399,\n",
    "    0.595259,\n",
    "    0.6195359,\n",
    "    0.5236569,\n",
    "    0.664387,\n",
    "    0.6819516,\n",
    "    0.503838,\n",
    "    0.576270997,\n",
    "    0.62811075,\n",
    "    0.604570508,\n",
    "    0.6187288,\n",
    "    0.654753,\n",
    "    0.59569638967,\n",
    "    0.5765741467,\n",
    "    0.65639215,\n",
    "    0.560441255,\n",
    "    0.52692282,\n",
    "    0.62480497,\n",
    "    0.5717596,\n",
    "    0.4443662,\n",
    "    0.5964726,\n",
    "    0.63212949,\n",
    "    0.6097509,\n",
    "    0.61967355,\n",
    "    0.68474,\n",
    "    0.73098,\n",
    "    0.469717,\n",
    "    0.6137657,\n",
    "    0.61052447557,\n",
    "    0.4984967,\n",
    "    0.6565629,\n",
    "    0.59753525257,\n",
    "    0.5660267,\n",
    "    0.6557744,\n",
    "    0.56982338,\n",
    "    0.62308949,\n",
    "    0.545513,\n",
    "    0.60677,\n",
    "    0.715595,\n",
    "    0.7052625,\n",
    "    0.61761957,\n",
    "    0.64363306,\n",
    "    0.6009945,\n",
    "    0.592138707,\n",
    "    0.61603069,\n",
    "    0.598185658,\n",
    "    0.5933338,\n",
    "    0.6277466,\n",
    "    0.5623755,\n",
    "    0.6203489,\n",
    "    0.5040397,\n",
    "    0.73360979,\n",
    "    0.7952144,\n",
    "    0.45291349,\n",
    "    0.41730788,\n",
    "    0.54704487,\n",
    "    0.4835606,\n",
    "    0.5867008,\n",
    "    0.49841472,\n",
    "    0.556829,\n",
    "    0.74117487,\n",
    "    0.444108039,\n",
    "    0.488289,\n",
    "    0.57693058,\n",
    "    0.528937,\n",
    "    0.520601\n",
    "]\n"
   ]
  },
  {
   "cell_type": "code",
   "execution_count": 14,
   "metadata": {},
   "outputs": [],
   "source": [
    "matchesDf = pd.DataFrame(matchesList)\n",
    "noMatchesDf = pd.DataFrame(noMatchesList)\n",
    "manualRatedDf = pd.concat([matchesDf.assign(dataset='Match'), noMatchesDf.assign(dataset='No Match')])"
   ]
  },
  {
   "cell_type": "code",
   "execution_count": 13,
   "metadata": {},
   "outputs": [],
   "source": [
    "with open('dataframes\\manualRatedDf.pickle', 'rb') as handle:\n",
    "    manualRatedDf = pickle.load(handle)"
   ]
  },
  {
   "cell_type": "code",
   "execution_count": 24,
   "metadata": {},
   "outputs": [
    {
     "data": {
      "text/html": [
       "<div>\n",
       "<style scoped>\n",
       "    .dataframe tbody tr th:only-of-type {\n",
       "        vertical-align: middle;\n",
       "    }\n",
       "\n",
       "    .dataframe tbody tr th {\n",
       "        vertical-align: top;\n",
       "    }\n",
       "\n",
       "    .dataframe thead th {\n",
       "        text-align: right;\n",
       "    }\n",
       "</style>\n",
       "<table border=\"1\" class=\"dataframe\">\n",
       "  <thead>\n",
       "    <tr style=\"text-align: right;\">\n",
       "      <th></th>\n",
       "      <th>WaFile</th>\n",
       "      <th>WaContent</th>\n",
       "      <th>StanFile</th>\n",
       "      <th>StanContent</th>\n",
       "      <th>Score</th>\n",
       "      <th>Match</th>\n",
       "    </tr>\n",
       "  </thead>\n",
       "  <tbody>\n",
       "    <tr>\n",
       "      <th>0</th>\n",
       "      <td>wa1077we4.txt</td>\n",
       "      <td>Tom Waes is slimste mens Tom Waes won de tv-qu...</td>\n",
       "      <td>20151209_2823c25e-9ddc-11e5-939a-0950ec295d9d_...</td>\n",
       "      <td>FILM Jan Verheyen verfilmt Geeraerts Jan Verhe...</td>\n",
       "      <td>0.746599</td>\n",
       "      <td>0</td>\n",
       "    </tr>\n",
       "    <tr>\n",
       "      <th>1</th>\n",
       "      <td>wa1073we2.txt</td>\n",
       "      <td>Groene torens Bij flatgebouwen denk je aan tor...</td>\n",
       "      <td>20151114_70269242-8a3c-11e5-ba7c-192370607c1e_...</td>\n",
       "      <td>Erfgoed Renovatie voor Théâtre des Galeries De...</td>\n",
       "      <td>0.729327</td>\n",
       "      <td>0</td>\n",
       "    </tr>\n",
       "    <tr>\n",
       "      <th>2</th>\n",
       "      <td>wa969bin1.txt</td>\n",
       "      <td>Zondag zonder auto's Vorige zondag bleven in 2...</td>\n",
       "      <td>De_Standaard-2013-09-14(70).000001#3n.xml</td>\n",
       "      <td>FIETSEN WERKT PAS ALS HET ook FIJN IS Met de f...</td>\n",
       "      <td>0.755888</td>\n",
       "      <td>0</td>\n",
       "    </tr>\n",
       "    <tr>\n",
       "      <th>3</th>\n",
       "      <td>wa1017vp1.txt</td>\n",
       "      <td>Lego wil geen vrouwen meer In augustus bracht ...</td>\n",
       "      <td>20140926_91575ffa-44bf-11e4-b7b6-3edccc6aab7d_...</td>\n",
       "      <td>Bobbejaanland investeert in nieuwe attractie L...</td>\n",
       "      <td>0.730632</td>\n",
       "      <td>0</td>\n",
       "    </tr>\n",
       "    <tr>\n",
       "      <th>4</th>\n",
       "      <td>wa1119bin1.txt</td>\n",
       "      <td>Veel jongeren volgen bijles Steeds meer jonger...</td>\n",
       "      <td>27ed67c2-a114-11e6-afeb-65d0f2231cd0_DB.000001...</td>\n",
       "      <td>' Leerkrachten zien dat hun leerlingen goed pr...</td>\n",
       "      <td>0.899578</td>\n",
       "      <td>1</td>\n",
       "    </tr>\n",
       "    <tr>\n",
       "      <th>...</th>\n",
       "      <td>...</td>\n",
       "      <td>...</td>\n",
       "      <td>...</td>\n",
       "      <td>...</td>\n",
       "      <td>...</td>\n",
       "      <td>...</td>\n",
       "    </tr>\n",
       "    <tr>\n",
       "      <th>95</th>\n",
       "      <td>wa949sam1.txt</td>\n",
       "      <td>De verhalen van een striptekenaar België is ee...</td>\n",
       "      <td>De_Standaard-2013-04-12(26).000001#2n.xml</td>\n",
       "      <td>Pas verschenen Ikke ( Marc Legendre ) Biebel 3...</td>\n",
       "      <td>0.643192</td>\n",
       "      <td>0</td>\n",
       "    </tr>\n",
       "    <tr>\n",
       "      <th>96</th>\n",
       "      <td>wa1070sam1.txt</td>\n",
       "      <td>\"Om gelukkig te worden, moet je zelf in actie ...</td>\n",
       "      <td>20151030_4037d5dc-7bd7-11e5-9d64-46a60f66a63f_...</td>\n",
       "      <td>De 79ste Boekenbeurs loopt van 31 oktober tot ...</td>\n",
       "      <td>0.737415</td>\n",
       "      <td>0</td>\n",
       "    </tr>\n",
       "    <tr>\n",
       "      <th>97</th>\n",
       "      <td>wa974bik7.txt</td>\n",
       "      <td>Fonds huurder en verhuurder Freya Van Den Boss...</td>\n",
       "      <td>De_Standaard-2013-10-21(32).000001#3n.xml</td>\n",
       "      <td>Meer gezinnen dreigen uit huis te worden gezet...</td>\n",
       "      <td>0.791224</td>\n",
       "      <td>1</td>\n",
       "    </tr>\n",
       "    <tr>\n",
       "      <th>98</th>\n",
       "      <td>wa953bih3.txt</td>\n",
       "      <td>Belgen eten minder vlees Belgen eten minder vl...</td>\n",
       "      <td>De_Standaard-2013-05-04(123).000001#2n.xml</td>\n",
       "      <td>' Raken aan Brussel , dat is een atoombom ' Ch...</td>\n",
       "      <td>0.729149</td>\n",
       "      <td>0</td>\n",
       "    </tr>\n",
       "    <tr>\n",
       "      <th>99</th>\n",
       "      <td>wa1124we5.txt</td>\n",
       "      <td>Geen nieuwe biljetten Een Brits café heeft een...</td>\n",
       "      <td>463c17be-bb1d-11e6-95f1-d2abe4f190dd_DB.000001...</td>\n",
       "      <td>ook dat nog Brussel houdt vast aan historische...</td>\n",
       "      <td>0.690980</td>\n",
       "      <td>0</td>\n",
       "    </tr>\n",
       "  </tbody>\n",
       "</table>\n",
       "<p>100 rows × 6 columns</p>\n",
       "</div>"
      ],
      "text/plain": [
       "            WaFile                                          WaContent  \\\n",
       "0    wa1077we4.txt  Tom Waes is slimste mens Tom Waes won de tv-qu...   \n",
       "1    wa1073we2.txt  Groene torens Bij flatgebouwen denk je aan tor...   \n",
       "2    wa969bin1.txt  Zondag zonder auto's Vorige zondag bleven in 2...   \n",
       "3    wa1017vp1.txt  Lego wil geen vrouwen meer In augustus bracht ...   \n",
       "4   wa1119bin1.txt  Veel jongeren volgen bijles Steeds meer jonger...   \n",
       "..             ...                                                ...   \n",
       "95   wa949sam1.txt  De verhalen van een striptekenaar België is ee...   \n",
       "96  wa1070sam1.txt  \"Om gelukkig te worden, moet je zelf in actie ...   \n",
       "97   wa974bik7.txt  Fonds huurder en verhuurder Freya Van Den Boss...   \n",
       "98   wa953bih3.txt  Belgen eten minder vlees Belgen eten minder vl...   \n",
       "99   wa1124we5.txt  Geen nieuwe biljetten Een Brits café heeft een...   \n",
       "\n",
       "                                             StanFile  \\\n",
       "0   20151209_2823c25e-9ddc-11e5-939a-0950ec295d9d_...   \n",
       "1   20151114_70269242-8a3c-11e5-ba7c-192370607c1e_...   \n",
       "2           De_Standaard-2013-09-14(70).000001#3n.xml   \n",
       "3   20140926_91575ffa-44bf-11e4-b7b6-3edccc6aab7d_...   \n",
       "4   27ed67c2-a114-11e6-afeb-65d0f2231cd0_DB.000001...   \n",
       "..                                                ...   \n",
       "95          De_Standaard-2013-04-12(26).000001#2n.xml   \n",
       "96  20151030_4037d5dc-7bd7-11e5-9d64-46a60f66a63f_...   \n",
       "97          De_Standaard-2013-10-21(32).000001#3n.xml   \n",
       "98         De_Standaard-2013-05-04(123).000001#2n.xml   \n",
       "99  463c17be-bb1d-11e6-95f1-d2abe4f190dd_DB.000001...   \n",
       "\n",
       "                                          StanContent     Score  Match  \n",
       "0   FILM Jan Verheyen verfilmt Geeraerts Jan Verhe...  0.746599      0  \n",
       "1   Erfgoed Renovatie voor Théâtre des Galeries De...  0.729327      0  \n",
       "2   FIETSEN WERKT PAS ALS HET ook FIJN IS Met de f...  0.755888      0  \n",
       "3   Bobbejaanland investeert in nieuwe attractie L...  0.730632      0  \n",
       "4   ' Leerkrachten zien dat hun leerlingen goed pr...  0.899578      1  \n",
       "..                                                ...       ...    ...  \n",
       "95  Pas verschenen Ikke ( Marc Legendre ) Biebel 3...  0.643192      0  \n",
       "96  De 79ste Boekenbeurs loopt van 31 oktober tot ...  0.737415      0  \n",
       "97  Meer gezinnen dreigen uit huis te worden gezet...  0.791224      1  \n",
       "98  ' Raken aan Brussel , dat is een atoombom ' Ch...  0.729149      0  \n",
       "99  ook dat nog Brussel houdt vast aan historische...  0.690980      0  \n",
       "\n",
       "[100 rows x 6 columns]"
      ]
     },
     "execution_count": 24,
     "metadata": {},
     "output_type": "execute_result"
    }
   ],
   "source": [
    "manualRatedDf.head()"
   ]
  },
  {
   "cell_type": "code",
   "execution_count": 8,
   "metadata": {},
   "outputs": [
    {
     "data": {
      "text/plain": [
       "Text(0, 0.5, 'Amount')"
      ]
     },
     "execution_count": 8,
     "metadata": {},
     "output_type": "execute_result"
    },
    {
     "data": {
      "image/png": "[encoded data removed]",
      "text/plain": [
       "<Figure size 432x288 with 1 Axes>"
      ]
     },
     "metadata": {
      "needs_background": "light"
     },
     "output_type": "display_data"
    }
   ],
   "source": [
    "fig, ax = plt.subplots()\n",
    "sns.histplot(manualRatedDf,x='Score',hue='Match', ax=ax)\n",
    "ax.set_xlim(left=0.3,right=1)\n",
    "plt.title(\"Manually rated score distribution\")\n",
    "plt.xlabel(\"Similarity score\")\n",
    "plt.ylabel(\"Amount\")"
   ]
  },
  {
   "cell_type": "code",
   "execution_count": 16,
   "metadata": {},
   "outputs": [
    {
     "data": {
      "text/html": [
       "<div>\n",
       "<style scoped>\n",
       "    .dataframe tbody tr th:only-of-type {\n",
       "        vertical-align: middle;\n",
       "    }\n",
       "\n",
       "    .dataframe tbody tr th {\n",
       "        vertical-align: top;\n",
       "    }\n",
       "\n",
       "    .dataframe thead th {\n",
       "        text-align: right;\n",
       "    }\n",
       "</style>\n",
       "<table border=\"1\" class=\"dataframe\">\n",
       "  <thead>\n",
       "    <tr style=\"text-align: right;\">\n",
       "      <th></th>\n",
       "      <th>Score</th>\n",
       "      <th>Match</th>\n",
       "    </tr>\n",
       "  </thead>\n",
       "  <tbody>\n",
       "    <tr>\n",
       "      <th>count</th>\n",
       "      <td>271.000000</td>\n",
       "      <td>271.0</td>\n",
       "    </tr>\n",
       "    <tr>\n",
       "      <th>mean</th>\n",
       "      <td>0.741523</td>\n",
       "      <td>1.0</td>\n",
       "    </tr>\n",
       "    <tr>\n",
       "      <th>std</th>\n",
       "      <td>0.076843</td>\n",
       "      <td>0.0</td>\n",
       "    </tr>\n",
       "    <tr>\n",
       "      <th>min</th>\n",
       "      <td>0.443670</td>\n",
       "      <td>1.0</td>\n",
       "    </tr>\n",
       "    <tr>\n",
       "      <th>1%</th>\n",
       "      <td>0.516483</td>\n",
       "      <td>1.0</td>\n",
       "    </tr>\n",
       "    <tr>\n",
       "      <th>5%</th>\n",
       "      <td>0.612082</td>\n",
       "      <td>1.0</td>\n",
       "    </tr>\n",
       "    <tr>\n",
       "      <th>10%</th>\n",
       "      <td>0.643378</td>\n",
       "      <td>1.0</td>\n",
       "    </tr>\n",
       "    <tr>\n",
       "      <th>25%</th>\n",
       "      <td>0.695975</td>\n",
       "      <td>1.0</td>\n",
       "    </tr>\n",
       "    <tr>\n",
       "      <th>50%</th>\n",
       "      <td>0.753278</td>\n",
       "      <td>1.0</td>\n",
       "    </tr>\n",
       "    <tr>\n",
       "      <th>75%</th>\n",
       "      <td>0.790756</td>\n",
       "      <td>1.0</td>\n",
       "    </tr>\n",
       "    <tr>\n",
       "      <th>90%</th>\n",
       "      <td>0.828416</td>\n",
       "      <td>1.0</td>\n",
       "    </tr>\n",
       "    <tr>\n",
       "      <th>95%</th>\n",
       "      <td>0.850030</td>\n",
       "      <td>1.0</td>\n",
       "    </tr>\n",
       "    <tr>\n",
       "      <th>99%</th>\n",
       "      <td>0.904014</td>\n",
       "      <td>1.0</td>\n",
       "    </tr>\n",
       "    <tr>\n",
       "      <th>max</th>\n",
       "      <td>0.923899</td>\n",
       "      <td>1.0</td>\n",
       "    </tr>\n",
       "  </tbody>\n",
       "</table>\n",
       "</div>"
      ],
      "text/plain": [
       "            Score  Match\n",
       "count  271.000000  271.0\n",
       "mean     0.741523    1.0\n",
       "std      0.076843    0.0\n",
       "min      0.443670    1.0\n",
       "1%       0.516483    1.0\n",
       "5%       0.612082    1.0\n",
       "10%      0.643378    1.0\n",
       "25%      0.695975    1.0\n",
       "50%      0.753278    1.0\n",
       "75%      0.790756    1.0\n",
       "90%      0.828416    1.0\n",
       "95%      0.850030    1.0\n",
       "99%      0.904014    1.0\n",
       "max      0.923899    1.0"
      ]
     },
     "execution_count": 16,
     "metadata": {},
     "output_type": "execute_result"
    }
   ],
   "source": [
    "manualRatedDf.loc[manualRatedDf[\"Match\"] == 1].describe(percentiles=[0.01, 0.05,0.10, .25, .50, .75, .90, .95, .99])"
   ]
  },
  {
   "cell_type": "code",
   "execution_count": 24,
   "metadata": {},
   "outputs": [
    {
     "data": {
      "text/html": [
       "<div>\n",
       "<style scoped>\n",
       "    .dataframe tbody tr th:only-of-type {\n",
       "        vertical-align: middle;\n",
       "    }\n",
       "\n",
       "    .dataframe tbody tr th {\n",
       "        vertical-align: top;\n",
       "    }\n",
       "\n",
       "    .dataframe thead th {\n",
       "        text-align: right;\n",
       "    }\n",
       "</style>\n",
       "<table border=\"1\" class=\"dataframe\">\n",
       "  <thead>\n",
       "    <tr style=\"text-align: right;\">\n",
       "      <th></th>\n",
       "      <th>0</th>\n",
       "    </tr>\n",
       "  </thead>\n",
       "  <tbody>\n",
       "    <tr>\n",
       "      <th>count</th>\n",
       "      <td>273.000000</td>\n",
       "    </tr>\n",
       "    <tr>\n",
       "      <th>mean</th>\n",
       "      <td>0.740824</td>\n",
       "    </tr>\n",
       "    <tr>\n",
       "      <th>std</th>\n",
       "      <td>0.076994</td>\n",
       "    </tr>\n",
       "    <tr>\n",
       "      <th>min</th>\n",
       "      <td>0.443670</td>\n",
       "    </tr>\n",
       "    <tr>\n",
       "      <th>10%</th>\n",
       "      <td>0.642440</td>\n",
       "    </tr>\n",
       "    <tr>\n",
       "      <th>25%</th>\n",
       "      <td>0.691540</td>\n",
       "    </tr>\n",
       "    <tr>\n",
       "      <th>50%</th>\n",
       "      <td>0.752358</td>\n",
       "    </tr>\n",
       "    <tr>\n",
       "      <th>75%</th>\n",
       "      <td>0.790495</td>\n",
       "    </tr>\n",
       "    <tr>\n",
       "      <th>90%</th>\n",
       "      <td>0.828199</td>\n",
       "    </tr>\n",
       "    <tr>\n",
       "      <th>95%</th>\n",
       "      <td>0.849542</td>\n",
       "    </tr>\n",
       "    <tr>\n",
       "      <th>99%</th>\n",
       "      <td>0.903993</td>\n",
       "    </tr>\n",
       "    <tr>\n",
       "      <th>max</th>\n",
       "      <td>0.923899</td>\n",
       "    </tr>\n",
       "  </tbody>\n",
       "</table>\n",
       "</div>"
      ],
      "text/plain": [
       "                0\n",
       "count  273.000000\n",
       "mean     0.740824\n",
       "std      0.076994\n",
       "min      0.443670\n",
       "10%      0.642440\n",
       "25%      0.691540\n",
       "50%      0.752358\n",
       "75%      0.790495\n",
       "90%      0.828199\n",
       "95%      0.849542\n",
       "99%      0.903993\n",
       "max      0.923899"
      ]
     },
     "execution_count": 24,
     "metadata": {},
     "output_type": "execute_result"
    }
   ],
   "source": [
    "matchesDf.describe(percentiles=[0.10,.25, .50, .75, .90, .95, .99])"
   ]
  },
  {
   "cell_type": "code",
   "execution_count": 15,
   "metadata": {},
   "outputs": [
    {
     "data": {
      "text/plain": [
       "0    47\n",
       "dtype: int64"
      ]
     },
     "execution_count": 15,
     "metadata": {},
     "output_type": "execute_result"
    }
   ],
   "source": [
    "matchesDf.loc[matchesDf[0] <= 0.642].count()"
   ]
  },
  {
   "cell_type": "code",
   "execution_count": 25,
   "metadata": {},
   "outputs": [
    {
     "data": {
      "text/html": [
       "<div>\n",
       "<style scoped>\n",
       "    .dataframe tbody tr th:only-of-type {\n",
       "        vertical-align: middle;\n",
       "    }\n",
       "\n",
       "    .dataframe tbody tr th {\n",
       "        vertical-align: top;\n",
       "    }\n",
       "\n",
       "    .dataframe thead th {\n",
       "        text-align: right;\n",
       "    }\n",
       "</style>\n",
       "<table border=\"1\" class=\"dataframe\">\n",
       "  <thead>\n",
       "    <tr style=\"text-align: right;\">\n",
       "      <th></th>\n",
       "      <th>0</th>\n",
       "    </tr>\n",
       "  </thead>\n",
       "  <tbody>\n",
       "    <tr>\n",
       "      <th>count</th>\n",
       "      <td>139.000000</td>\n",
       "    </tr>\n",
       "    <tr>\n",
       "      <th>mean</th>\n",
       "      <td>0.579818</td>\n",
       "    </tr>\n",
       "    <tr>\n",
       "      <th>std</th>\n",
       "      <td>0.072413</td>\n",
       "    </tr>\n",
       "    <tr>\n",
       "      <th>min</th>\n",
       "      <td>0.417308</td>\n",
       "    </tr>\n",
       "    <tr>\n",
       "      <th>10%</th>\n",
       "      <td>0.488246</td>\n",
       "    </tr>\n",
       "    <tr>\n",
       "      <th>25%</th>\n",
       "      <td>0.525696</td>\n",
       "    </tr>\n",
       "    <tr>\n",
       "      <th>50%</th>\n",
       "      <td>0.576574</td>\n",
       "    </tr>\n",
       "    <tr>\n",
       "      <th>75%</th>\n",
       "      <td>0.623947</td>\n",
       "    </tr>\n",
       "    <tr>\n",
       "      <th>90%</th>\n",
       "      <td>0.670809</td>\n",
       "    </tr>\n",
       "    <tr>\n",
       "      <th>95%</th>\n",
       "      <td>0.699313</td>\n",
       "    </tr>\n",
       "    <tr>\n",
       "      <th>99%</th>\n",
       "      <td>0.738300</td>\n",
       "    </tr>\n",
       "    <tr>\n",
       "      <th>max</th>\n",
       "      <td>0.795214</td>\n",
       "    </tr>\n",
       "  </tbody>\n",
       "</table>\n",
       "</div>"
      ],
      "text/plain": [
       "                0\n",
       "count  139.000000\n",
       "mean     0.579818\n",
       "std      0.072413\n",
       "min      0.417308\n",
       "10%      0.488246\n",
       "25%      0.525696\n",
       "50%      0.576574\n",
       "75%      0.623947\n",
       "90%      0.670809\n",
       "95%      0.699313\n",
       "99%      0.738300\n",
       "max      0.795214"
      ]
     },
     "execution_count": 25,
     "metadata": {},
     "output_type": "execute_result"
    }
   ],
   "source": [
    "noMatchesDf.describe(percentiles=[0.10, .25, .50, .75, .90, .95, .99])"
   ]
  },
  {
   "cell_type": "code",
   "execution_count": 37,
   "metadata": {},
   "outputs": [
    {
     "data": {
      "text/plain": [
       "0    226\n",
       "dtype: int64"
      ]
     },
     "execution_count": 37,
     "metadata": {},
     "output_type": "execute_result"
    }
   ],
   "source": [
    "matchesDf.loc[matchesDf[0] >= 0.671].count()"
   ]
  },
  {
   "cell_type": "code",
   "execution_count": 38,
   "metadata": {},
   "outputs": [
    {
     "data": {
      "text/plain": [
       "0    25\n",
       "dtype: int64"
      ]
     },
     "execution_count": 38,
     "metadata": {},
     "output_type": "execute_result"
    }
   ],
   "source": [
    "noMatchesDf.loc[noMatchesDf[0] >= 0.642].count()"
   ]
  },
  {
   "cell_type": "code",
   "execution_count": 20,
   "metadata": {},
   "outputs": [
    {
     "name": "stdout",
     "output_type": "stream",
     "text": [
      "0.050359712230215826\n"
     ]
    }
   ],
   "source": [
    "print(7/139)"
   ]
  },
  {
   "cell_type": "markdown",
   "metadata": {},
   "source": [
    "### ROC"
   ]
  },
  {
   "cell_type": "code",
   "execution_count": 87,
   "metadata": {},
   "outputs": [],
   "source": [
    "fpr, tpr, thresholds = metrics.roc_curve(manualRatedDf[\"Match\"].tolist(), manualRatedDf[\"Score\"].tolist(), pos_label=\"Match\")"
   ]
  },
  {
   "cell_type": "code",
   "execution_count": 40,
   "metadata": {},
   "outputs": [
    {
     "data": {
      "text/plain": [
       "0.9316414999868236"
      ]
     },
     "execution_count": 40,
     "metadata": {},
     "output_type": "execute_result"
    }
   ],
   "source": [
    "roc_auc = metrics.auc(fpr, tpr)\n",
    "roc_auc"
   ]
  },
  {
   "cell_type": "code",
   "execution_count": 5,
   "metadata": {},
   "outputs": [
    {
     "ename": "NameError",
     "evalue": "name 'metrics' is not defined",
     "output_type": "error",
     "traceback": [
      "\u001b[1;31m---------------------------------------------------------------------------\u001b[0m",
      "\u001b[1;31mNameError\u001b[0m                                 Traceback (most recent call last)",
      "\u001b[1;32m~\\AppData\\Local\\Temp\\ipykernel_11728\\1645598562.py\u001b[0m in \u001b[0;36m<module>\u001b[1;34m\u001b[0m\n\u001b[1;32m----> 1\u001b[1;33m \u001b[0mdisplay\u001b[0m \u001b[1;33m=\u001b[0m \u001b[0mmetrics\u001b[0m\u001b[1;33m.\u001b[0m\u001b[0mRocCurveDisplay\u001b[0m\u001b[1;33m(\u001b[0m\u001b[0mfpr\u001b[0m\u001b[1;33m,\u001b[0m \u001b[0mtpr\u001b[0m\u001b[1;33m,\u001b[0m \u001b[0mroc_auc\u001b[0m\u001b[1;33m=\u001b[0m\u001b[0mroc_auc\u001b[0m\u001b[1;33m,\u001b[0m \u001b[0mestimator_name\u001b[0m\u001b[1;33m=\u001b[0m\u001b[1;34m\"Log reg BERT - TFIDF\"\u001b[0m\u001b[1;33m)\u001b[0m\u001b[1;33m\u001b[0m\u001b[1;33m\u001b[0m\u001b[0m\n\u001b[0m\u001b[0;32m      2\u001b[0m \u001b[0mdisplay\u001b[0m\u001b[1;33m.\u001b[0m\u001b[0mplot\u001b[0m\u001b[1;33m(\u001b[0m\u001b[1;33m)\u001b[0m\u001b[1;33m\u001b[0m\u001b[1;33m\u001b[0m\u001b[0m\n\u001b[0;32m      3\u001b[0m \u001b[0mplt\u001b[0m\u001b[1;33m.\u001b[0m\u001b[0mplot\u001b[0m\u001b[1;33m(\u001b[0m\u001b[1;33m[\u001b[0m\u001b[1;36m0\u001b[0m\u001b[1;33m,\u001b[0m\u001b[1;36m1\u001b[0m\u001b[1;33m]\u001b[0m\u001b[1;33m,\u001b[0m \u001b[1;33m[\u001b[0m\u001b[1;36m0\u001b[0m\u001b[1;33m,\u001b[0m\u001b[1;36m1\u001b[0m\u001b[1;33m]\u001b[0m\u001b[1;33m,\u001b[0m \u001b[0mlinestyle\u001b[0m\u001b[1;33m=\u001b[0m\u001b[1;34m'--'\u001b[0m\u001b[1;33m)\u001b[0m\u001b[1;33m\u001b[0m\u001b[1;33m\u001b[0m\u001b[0m\n\u001b[0;32m      4\u001b[0m \u001b[0mplt\u001b[0m\u001b[1;33m.\u001b[0m\u001b[0mshow\u001b[0m\u001b[1;33m(\u001b[0m\u001b[1;33m)\u001b[0m\u001b[1;33m\u001b[0m\u001b[1;33m\u001b[0m\u001b[0m\n",
      "\u001b[1;31mNameError\u001b[0m: name 'metrics' is not defined"
     ]
    }
   ],
   "source": [
    "display = metrics.RocCurveDisplay(fpr, tpr, roc_auc=roc_auc, estimator_name=\"Log reg BERT - TFIDF\")\n",
    "display.plot()\n",
    "plt.plot([0,1], [0,1], linestyle='--')\n",
    "plt.show()"
   ]
  },
  {
   "cell_type": "code",
   "execution_count": 126,
   "metadata": {},
   "outputs": [],
   "source": [
    "# LogReg tpr, fpr\n",
    "lrfpr = [0.     , 0.     , 0.     , 0.03125, 0.03125, 0.0625 , 0.0625 ,\n",
    "       0.09375, 0.09375, 0.125  , 0.125  , 0.15625, 0.15625, 0.1875 ,\n",
    "       0.1875 , 0.21875, 0.21875, 0.25   , 0.25   , 0.28125, 0.28125,\n",
    "       0.875  , 0.875  , 0.96875, 0.96875, 1.     ]\n",
    "lrtpr = [0.        , 0.01587302, 0.50793651, 0.50793651, 0.53968254,\n",
    "       0.53968254, 0.6031746 , 0.6031746 , 0.74603175, 0.74603175,\n",
    "       0.76190476, 0.76190476, 0.79365079, 0.79365079, 0.87301587,\n",
    "       0.87301587, 0.92063492, 0.92063492, 0.93650794, 0.93650794,\n",
    "       0.96825397, 0.96825397, 0.98412698, 0.98412698, 1.        ,\n",
    "       1.        ]\n",
    "\n",
    "lrroc_auc = metrics.auc(lrfpr, lrtpr)"
   ]
  },
  {
   "cell_type": "markdown",
   "metadata": {},
   "source": [
    "### EER"
   ]
  },
  {
   "cell_type": "code",
   "execution_count": 96,
   "metadata": {},
   "outputs": [],
   "source": [
    "def calculateEER(th, frr, fpr):\n",
    "\n",
    "    #calculate threshold at which eer occurs\n",
    "    eerth = th[np.nanargmin(np.absolute((frr-fpr)))]\n",
    "\n",
    "    #calculate eer\n",
    "    eer = fpr[np.nanargmin(np.absolute((frr-fpr)))]\n",
    "    \n",
    "    return eer, eerth \n",
    "\n",
    "def plotFARFNR(threshold, fpr, fnr, eer, eerth):\n",
    "    plt.plot(threshold, fpr, label='FAR')\n",
    "    plt.plot(threshold, fnr, label='FNR')\n",
    "\n",
    "    #mark EER on the plot\n",
    "    plt.plot(eerth, eer, marker='o')\n",
    "    plt.annotate(\"EER\", (eerth, eer))\n",
    "    \n",
    "    plt.xlim(0.2, 1)\n",
    "    plt.ylim(0, 1)\n",
    "    plt.xlabel(\"Threshold\")\n",
    "    plt.ylabel(\"Error rate\")\n",
    "    plt.title(\"FAR and FNR as function of the decision threshold\")\n",
    "    plt.legend()\n",
    "    plt.show()"
   ]
  },
  {
   "cell_type": "code",
   "execution_count": 45,
   "metadata": {},
   "outputs": [],
   "source": [
    "fnr = 1 - tpr"
   ]
  },
  {
   "cell_type": "code",
   "execution_count": 90,
   "metadata": {},
   "outputs": [],
   "source": [
    "eer, eer_threshold = calculateEER(thresholds, fnr, fpr)"
   ]
  },
  {
   "cell_type": "code",
   "execution_count": 97,
   "metadata": {},
   "outputs": [
    {
     "data": {
      "image/png": "[encoded data removed]",
      "text/plain": [
       "<Figure size 432x288 with 1 Axes>"
      ]
     },
     "metadata": {
      "needs_background": "light"
     },
     "output_type": "display_data"
    }
   ],
   "source": [
    "plotFARFNR(thresholds, fpr, fnr, eer, eer_threshold)"
   ]
  },
  {
   "cell_type": "code",
   "execution_count": 95,
   "metadata": {},
   "outputs": [
    {
     "name": "stdout",
     "output_type": "stream",
     "text": [
      "The EER value is: 0.12949640287769784, with threshold: 0.6577181\n"
     ]
    }
   ],
   "source": [
    "print(\"The EER value is: \" + str(eer) +\", with threshold: \" + str(eer_threshold))"
   ]
  },
  {
   "cell_type": "markdown",
   "metadata": {},
   "source": [
    "### Accuracy and F1"
   ]
  },
  {
   "cell_type": "code",
   "execution_count": 98,
   "metadata": {},
   "outputs": [],
   "source": [
    "def listAccF1(id, scores):\n",
    "    acclist = []\n",
    "    f1list = []\n",
    "    # create a list with 50 thresholds\n",
    "    thresholds = np.arange(0.4, 1, 0.012)\n",
    "\n",
    "    # predict different accuracies and f1-scores based on predictions\n",
    "    for threshold in thresholds:\n",
    "        genuine_pred = np.where(scores > threshold, 1, 0)\n",
    "        accuracy = metrics.accuracy_score(id, genuine_pred)\n",
    "        f1 = metrics.f1_score(id, genuine_pred)\n",
    "        acclist.append(accuracy)\n",
    "        f1list.append(f1)\n",
    "\n",
    "    return thresholds, acclist, f1list\n",
    "\n",
    "def plot_ACCF1(thresholds, acclist, f1list):\n",
    "    plt.plot(thresholds, acclist, label='Accuracy')\n",
    "    plt.plot(thresholds, f1list, label='F1')\n",
    "    plt.xlim(0.4, 1)\n",
    "    plt.ylim(0, 1)\n",
    "    plt.title('Accuracy and F1')\n",
    "    plt.xlabel('DET')\n",
    "    plt.ylabel('Score')\n",
    "    plt.legend()\n",
    "    plt.show"
   ]
  },
  {
   "cell_type": "code",
   "execution_count": 100,
   "metadata": {},
   "outputs": [],
   "source": [
    "thresholds, acclist, f1list = listAccF1(manualRatedDf[\"Match\"].tolist(), manualRatedDf[\"Score\"].tolist())"
   ]
  },
  {
   "cell_type": "code",
   "execution_count": 102,
   "metadata": {},
   "outputs": [
    {
     "data": {
      "text/plain": [
       "0.6280000000000002"
      ]
     },
     "execution_count": 102,
     "metadata": {},
     "output_type": "execute_result"
    }
   ],
   "source": [
    "def calculateMaxThresh(thresholds, scores):\n",
    "    xmax = thresholds[np.argmax(scores)]\n",
    "    return xmax\n",
    "\n",
    "calculateMaxThresh(thresholds, acclist)"
   ]
  },
  {
   "cell_type": "code",
   "execution_count": 101,
   "metadata": {},
   "outputs": [
    {
     "data": {
      "image/png": "[encoded data removed]",
      "text/plain": [
       "<Figure size 432x288 with 1 Axes>"
      ]
     },
     "metadata": {
      "needs_background": "light"
     },
     "output_type": "display_data"
    }
   ],
   "source": [
    "plot_ACCF1(thresholds, acclist, f1list)"
   ]
  },
  {
   "cell_type": "markdown",
   "metadata": {},
   "source": [
    "### Precision and recall"
   ]
  },
  {
   "cell_type": "code",
   "execution_count": 103,
   "metadata": {},
   "outputs": [],
   "source": [
    "def plot_PrecRecall(precision, recall, thresholds):\n",
    "    plt.plot(recall, precision)\n",
    "\n",
    "    plt.xlabel(\"Recall\")\n",
    "    plt.ylabel(\"Precision\")\n",
    "    plt.title(\"Precision-Recall curve\")\n",
    "\n",
    "    plt.show()"
   ]
  },
  {
   "cell_type": "code",
   "execution_count": 123,
   "metadata": {},
   "outputs": [
    {
     "data": {
      "image/png": "[encoded data removed]",
      "text/plain": [
       "<Figure size 432x288 with 1 Axes>"
      ]
     },
     "metadata": {
      "needs_background": "light"
     },
     "output_type": "display_data"
    }
   ],
   "source": [
    "precision, recall, threshpr = metrics.precision_recall_curve(manualRatedDf[\"Match\"].tolist(), manualRatedDf[\"Score\"].tolist(), pos_label=1)\n",
    "plot_PrecRecall(precision, recall, threshpr)"
   ]
  },
  {
   "cell_type": "code",
   "execution_count": 107,
   "metadata": {},
   "outputs": [
    {
     "name": "stdout",
     "output_type": "stream",
     "text": [
      "The Area Under the PR-curve is:  0.9647254463073016\n",
      "The average precision score is:  0.9648012467777938\n"
     ]
    }
   ],
   "source": [
    "auc_PR = metrics.auc(recall, precision)\n",
    "print(\"The Area Under the PR-curve is: \", auc_PR)\n",
    "\n",
    "average_precisionli = metrics.average_precision_score(manualRatedDf[\"Match\"].tolist(), manualRatedDf[\"Score\"].tolist(), pos_label=1)\n",
    "print(\"The average precision score is: \", average_precisionli)"
   ]
  },
  {
   "cell_type": "code",
   "execution_count": 4,
   "metadata": {},
   "outputs": [
    {
     "ename": "NameError",
     "evalue": "name 'metrics' is not defined",
     "output_type": "error",
     "traceback": [
      "\u001b[1;31m---------------------------------------------------------------------------\u001b[0m",
      "\u001b[1;31mNameError\u001b[0m                                 Traceback (most recent call last)",
      "\u001b[1;32m~\\AppData\\Local\\Temp\\ipykernel_11728\\3649547451.py\u001b[0m in \u001b[0;36m<module>\u001b[1;34m\u001b[0m\n\u001b[1;32m----> 1\u001b[1;33m \u001b[0mprint\u001b[0m\u001b[1;33m(\u001b[0m\u001b[1;34m\"Accuracy:\"\u001b[0m\u001b[1;33m,\u001b[0m\u001b[0mmetrics\u001b[0m\u001b[1;33m.\u001b[0m\u001b[0maccuracy_score\u001b[0m\u001b[1;33m(\u001b[0m\u001b[0mmanualRatedDf\u001b[0m\u001b[1;33m[\u001b[0m\u001b[1;34m\"Match\"\u001b[0m\u001b[1;33m]\u001b[0m\u001b[1;33m.\u001b[0m\u001b[0mtolist\u001b[0m\u001b[1;33m(\u001b[0m\u001b[1;33m)\u001b[0m\u001b[1;33m,\u001b[0m \u001b[0mmanualRatedDf\u001b[0m\u001b[1;33m[\u001b[0m\u001b[1;34m\"Score\"\u001b[0m\u001b[1;33m]\u001b[0m\u001b[1;33m.\u001b[0m\u001b[0mtolist\u001b[0m\u001b[1;33m(\u001b[0m\u001b[1;33m)\u001b[0m\u001b[1;33m)\u001b[0m\u001b[1;33m)\u001b[0m\u001b[1;33m\u001b[0m\u001b[1;33m\u001b[0m\u001b[0m\n\u001b[0m\u001b[0;32m      2\u001b[0m \u001b[0mprint\u001b[0m\u001b[1;33m(\u001b[0m\u001b[1;34m\"Precision:\"\u001b[0m\u001b[1;33m,\u001b[0m\u001b[0mmetrics\u001b[0m\u001b[1;33m.\u001b[0m\u001b[0mprecision_score\u001b[0m\u001b[1;33m(\u001b[0m\u001b[0mmanualRatedDf\u001b[0m\u001b[1;33m[\u001b[0m\u001b[1;34m\"Match\"\u001b[0m\u001b[1;33m]\u001b[0m\u001b[1;33m.\u001b[0m\u001b[0mtolist\u001b[0m\u001b[1;33m(\u001b[0m\u001b[1;33m)\u001b[0m\u001b[1;33m,\u001b[0m \u001b[0mmanualRatedDf\u001b[0m\u001b[1;33m[\u001b[0m\u001b[1;34m\"Score\"\u001b[0m\u001b[1;33m]\u001b[0m\u001b[1;33m.\u001b[0m\u001b[0mtolist\u001b[0m\u001b[1;33m(\u001b[0m\u001b[1;33m)\u001b[0m\u001b[1;33m)\u001b[0m\u001b[1;33m)\u001b[0m\u001b[1;33m\u001b[0m\u001b[1;33m\u001b[0m\u001b[0m\n\u001b[0;32m      3\u001b[0m \u001b[0mprint\u001b[0m\u001b[1;33m(\u001b[0m\u001b[1;34m\"Recall:\"\u001b[0m\u001b[1;33m,\u001b[0m\u001b[0mmetrics\u001b[0m\u001b[1;33m.\u001b[0m\u001b[0mrecall_score\u001b[0m\u001b[1;33m(\u001b[0m\u001b[0mmanualRatedDf\u001b[0m\u001b[1;33m[\u001b[0m\u001b[1;34m\"Match\"\u001b[0m\u001b[1;33m]\u001b[0m\u001b[1;33m.\u001b[0m\u001b[0mtolist\u001b[0m\u001b[1;33m(\u001b[0m\u001b[1;33m)\u001b[0m\u001b[1;33m,\u001b[0m \u001b[0mmanualRatedDf\u001b[0m\u001b[1;33m[\u001b[0m\u001b[1;34m\"Score\"\u001b[0m\u001b[1;33m]\u001b[0m\u001b[1;33m.\u001b[0m\u001b[0mtolist\u001b[0m\u001b[1;33m(\u001b[0m\u001b[1;33m)\u001b[0m\u001b[1;33m)\u001b[0m\u001b[1;33m)\u001b[0m\u001b[1;33m\u001b[0m\u001b[1;33m\u001b[0m\u001b[0m\n\u001b[0;32m      4\u001b[0m \u001b[0mprint\u001b[0m\u001b[1;33m(\u001b[0m\u001b[1;34m\"F1 score:\"\u001b[0m\u001b[1;33m,\u001b[0m\u001b[0mmetrics\u001b[0m\u001b[1;33m.\u001b[0m\u001b[0mf1_score\u001b[0m\u001b[1;33m(\u001b[0m\u001b[0mmanualRatedDf\u001b[0m\u001b[1;33m[\u001b[0m\u001b[1;34m\"Match\"\u001b[0m\u001b[1;33m]\u001b[0m\u001b[1;33m.\u001b[0m\u001b[0mtolist\u001b[0m\u001b[1;33m(\u001b[0m\u001b[1;33m)\u001b[0m\u001b[1;33m,\u001b[0m \u001b[0mmanualRatedDf\u001b[0m\u001b[1;33m[\u001b[0m\u001b[1;34m\"Score\"\u001b[0m\u001b[1;33m]\u001b[0m\u001b[1;33m.\u001b[0m\u001b[0mtolist\u001b[0m\u001b[1;33m(\u001b[0m\u001b[1;33m)\u001b[0m\u001b[1;33m)\u001b[0m\u001b[1;33m)\u001b[0m\u001b[1;33m\u001b[0m\u001b[1;33m\u001b[0m\u001b[0m\n\u001b[0;32m      5\u001b[0m \u001b[1;31m# print(\"Specificity:\",(cnf_matrix[0][0]/(cnf_matrix[0][0]+cnf_matrix[0][1])))\u001b[0m\u001b[1;33m\u001b[0m\u001b[1;33m\u001b[0m\u001b[1;33m\u001b[0m\u001b[0m\n",
      "\u001b[1;31mNameError\u001b[0m: name 'metrics' is not defined"
     ]
    }
   ],
   "source": [
    "print(\"Accuracy:\",metrics.accuracy_score(manualRatedDf[\"Match\"].tolist(), manualRatedDf[\"Score\"].tolist()))\n",
    "print(\"Precision:\",metrics.precision_score(manualRatedDf[\"Match\"].tolist(), manualRatedDf[\"Score\"].tolist()))\n",
    "print(\"Recall:\",metrics.recall_score(manualRatedDf[\"Match\"].tolist(), manualRatedDf[\"Score\"].tolist()))\n",
    "print(\"F1 score:\",metrics.f1_score(manualRatedDf[\"Match\"].tolist(), manualRatedDf[\"Score\"].tolist()))\n",
    "# print(\"Specificity:\",(cnf_matrix[0][0]/(cnf_matrix[0][0]+cnf_matrix[0][1])))"
   ]
  }
 ],
 "metadata": {
  "kernelspec": {
   "display_name": "Python 3.7.10 ('thesis')",
   "language": "python",
   "name": "python3"
  },
  "language_info": {
   "codemirror_mode": {
    "name": "ipython",
    "version": 3
   },
   "file_extension": ".py",
   "mimetype": "text/x-python",
   "name": "python",
   "nbconvert_exporter": "python",
   "pygments_lexer": "ipython3",
   "version": "3.7.10"
  },
  "orig_nbformat": 4,
  "vscode": {
   "interpreter": {
    "hash": "e3456e290f23e66e65c86db29512030f5b9518fa8a585a84d9a5b83ccae9d6ed"
   }
  }
 },
 "nbformat": 4,
 "nbformat_minor": 2
}
