{
 "cells": [
  {
   "cell_type": "markdown",
   "metadata": {},
   "source": [
    "De embeddings die hier gescoord worden zijn obv de content, er is niet gekeken naar preprocessing of tokenization\n",
    "\n",
    "Small part of the data is read in order to rate articles"
   ]
  },
  {
   "cell_type": "code",
   "execution_count": 1,
   "metadata": {},
   "outputs": [],
   "source": [
    "import tensorflow as tf\n",
    "from tensorflow import keras\n",
    "from IPython.display import clear_output"
   ]
  },
  {
   "cell_type": "code",
   "execution_count": 2,
   "metadata": {},
   "outputs": [],
   "source": [
    "import pickle\n",
    "import numpy as np\n",
    "import pandas as pd\n",
    "import torch\n",
    "import tqdm\n",
    "import random\n",
    "from csv import writer\n",
    "from sentence_transformers import SentenceTransformer, util\n",
    "from transformers import RobertaTokenizer, RobertaForSequenceClassification"
   ]
  },
  {
   "cell_type": "code",
   "execution_count": 3,
   "metadata": {},
   "outputs": [],
   "source": [
    "with open('dataframes\\wa_limited_testdf.pickle', 'rb') as handle:\n",
    "    wa_df = pickle.load(handle)\n",
    "\n",
    "with open('dataframes\\stan_limited_testdf.pickle', 'rb') as handle:\n",
    "    stan_df = pickle.load(handle)\n",
    "\n",
    "wa_embeddings = np.load('embeddings\\wa_testbatch_embeddings.npy')\n",
    "stan_embeddings = np.load('embeddings\\stan_testbatch_embeddings.npy')"
   ]
  },
  {
   "cell_type": "code",
   "execution_count": 4,
   "metadata": {},
   "outputs": [],
   "source": [
    "wa_content = wa_df.content\n",
    "stan_content = stan_df.content"
   ]
  },
  {
   "cell_type": "markdown",
   "metadata": {},
   "source": [
    "## Initial code to create similarity matrix\n",
    "Not needed because we dumped it in a pickle file"
   ]
  },
  {
   "cell_type": "code",
   "execution_count": 18,
   "metadata": {},
   "outputs": [],
   "source": [
    "#from sklearn.metrics.pairwise import cosine_similarity\n",
    "#from sentence_transformers import util\n",
    "#similarity = []\n",
    "#for i in range(len(wa_embeddings)):\n",
    "#    row=[]\n",
    "#    for j in range(len(stan_embeddings)):\n",
    "#        row.append(util.pytorch_cos_sim(wa_embeddings[i], stan_embeddings[j]).item())\n",
    "#    similarity.append(row)"
   ]
  },
  {
   "cell_type": "code",
   "execution_count": 19,
   "metadata": {},
   "outputs": [],
   "source": [
    "#with open('similaritymatrix_testdf.pickle', 'wb') as handle:\n",
    "#    pickle.dump(similarity, handle, protocol=pickle.HIGHEST_PROTOCOL)"
   ]
  },
  {
   "cell_type": "code",
   "execution_count": 5,
   "metadata": {},
   "outputs": [],
   "source": [
    "with open('similaritymatrix_testdf.pickle', 'rb') as handle:\n",
    "    similarity = pickle.load(handle)"
   ]
  },
  {
   "cell_type": "code",
   "execution_count": 7,
   "metadata": {},
   "outputs": [],
   "source": [
    "def return_top3_sim(similarity=similarity, index=0, wa_content=wa_content, stan_content=stan_content):\n",
    "    original_article = wa_content[index]\n",
    "    top_3_idx = np.argsort(similarity[index])[-3:]\n",
    "    top_3_values = [stan_content[i] for i in top_3_idx]\n",
    "    return(original_article, top_3_values, top_3_idx)"
   ]
  },
  {
   "cell_type": "code",
   "execution_count": 11,
   "metadata": {},
   "outputs": [
    {
     "name": "stdout",
     "output_type": "stream",
     "text": [
      "544 7643\n"
     ]
    }
   ],
   "source": [
    "#ManualScoredSimList = [0] * 7643\n",
    "#ManualScoredSimList = [ManualScoredSimList] * 544"
   ]
  },
  {
   "cell_type": "code",
   "execution_count": 8,
   "metadata": {},
   "outputs": [],
   "source": [
    "def createManualScoringMatrix(originalMatrix):\n",
    "    #First create list of zeroes with length=number of stan articles\n",
    "    matrix = [0]*len(originalMatrix[0])\n",
    "    #then multiply this list with amount wa articles\n",
    "    matrix = matrix * len(originalMatrix)\n",
    "    return matrix"
   ]
  },
  {
   "cell_type": "code",
   "execution_count": 6,
   "metadata": {},
   "outputs": [],
   "source": [
    "with open('ManualScoringMatrix.pickle', 'rb') as handle:\n",
    "    ManualScoredSimList = pickle.load(handle)\n",
    "\n",
    "with open('IndexesToRate.pickle', 'rb') as handle:\n",
    "    IndexesToRate = pickle.load(handle)"
   ]
  },
  {
   "cell_type": "code",
   "execution_count": 8,
   "metadata": {},
   "outputs": [],
   "source": [
    "for i in range(0, len(ManualScoredSimList)):\n",
    "    for j in range(0,len(ManualScoredSimList[0])):\n",
    "        ManualScoredSimList[i][j] = int(ManualScoredSimList[i][j])"
   ]
  },
  {
   "cell_type": "code",
   "execution_count": 36,
   "metadata": {},
   "outputs": [
    {
     "data": {
      "text/plain": [
       "7643"
      ]
     },
     "execution_count": 36,
     "metadata": {},
     "output_type": "execute_result"
    }
   ],
   "source": [
    "len(stan_content)"
   ]
  },
  {
   "cell_type": "code",
   "execution_count": 38,
   "metadata": {},
   "outputs": [],
   "source": [
    "ScoredArticles = np.empty((544, 7643))"
   ]
  },
  {
   "cell_type": "code",
   "execution_count": 53,
   "metadata": {},
   "outputs": [],
   "source": [
    "IndexesToRate = list(range(544))\n"
   ]
  },
  {
   "cell_type": "code",
   "execution_count": 788,
   "metadata": {},
   "outputs": [
    {
     "data": {
      "text/plain": [
       "0"
      ]
     },
     "execution_count": 788,
     "metadata": {},
     "output_type": "execute_result"
    }
   ],
   "source": [
    "len(IndexesToRate)"
   ]
  },
  {
   "cell_type": "code",
   "execution_count": 13,
   "metadata": {},
   "outputs": [],
   "source": [
    "def rate_articles(similarity=similarity, wa_content=wa_content, stan_content=stan_content, ManualScoredSimList=ManualScoredSimList, IndexesToRate=IndexesToRate):\n",
    "    index = random.choice(IndexesToRate)\n",
    "    original_article = wa_content[index]\n",
    "    top_3_idx = np.argsort(similarity[index])[-3:]\n",
    "    top_3_values = [stan_content[i] for i in top_3_idx]\n",
    "    UserScores = []\n",
    "    for article in top_3_idx:\n",
    "        print(f\"Original_article: {original_article} \\n \\n Similar article: {stan_content[article]}\")\n",
    "        UserScore = int(input(\"From 1 to 5, how similar are these articles? :\"))\n",
    "        UserScores.append(UserScore)\n",
    "        ManualScoredSimList[index][article] = UserScore\n",
    "        clear_output()\n",
    "    with open('ManualScoringLog.csv', 'a', newline='') as f_object:\n",
    "        writer_object = writer(f_object)\n",
    "        writer_object.writerow([index, top_3_idx, UserScores])\n",
    "        f_object.close()\n",
    "    IndexesToRate.remove(index)\n",
    "    return(\"Scores have been saved in the logfile!\")"
   ]
  },
  {
   "cell_type": "code",
   "execution_count": 789,
   "metadata": {},
   "outputs": [
    {
     "ename": "IndexError",
     "evalue": "Cannot choose from an empty sequence",
     "output_type": "error",
     "traceback": [
      "\u001b[1;31m---------------------------------------------------------------------------\u001b[0m",
      "\u001b[1;31mIndexError\u001b[0m                                Traceback (most recent call last)",
      "\u001b[1;32m<ipython-input-789-046358d7903a>\u001b[0m in \u001b[0;36m<module>\u001b[1;34m\u001b[0m\n\u001b[1;32m----> 1\u001b[1;33m \u001b[0mrate_articles\u001b[0m\u001b[1;33m(\u001b[0m\u001b[1;33m)\u001b[0m\u001b[1;33m\u001b[0m\u001b[1;33m\u001b[0m\u001b[0m\n\u001b[0m",
      "\u001b[1;32m<ipython-input-13-4435621b62b5>\u001b[0m in \u001b[0;36mrate_articles\u001b[1;34m(similarity, wa_content, stan_content, ManualScoredSimList, IndexesToRate)\u001b[0m\n\u001b[0;32m      1\u001b[0m \u001b[1;32mdef\u001b[0m \u001b[0mrate_articles\u001b[0m\u001b[1;33m(\u001b[0m\u001b[0msimilarity\u001b[0m\u001b[1;33m=\u001b[0m\u001b[0msimilarity\u001b[0m\u001b[1;33m,\u001b[0m \u001b[0mwa_content\u001b[0m\u001b[1;33m=\u001b[0m\u001b[0mwa_content\u001b[0m\u001b[1;33m,\u001b[0m \u001b[0mstan_content\u001b[0m\u001b[1;33m=\u001b[0m\u001b[0mstan_content\u001b[0m\u001b[1;33m,\u001b[0m \u001b[0mManualScoredSimList\u001b[0m\u001b[1;33m=\u001b[0m\u001b[0mManualScoredSimList\u001b[0m\u001b[1;33m,\u001b[0m \u001b[0mIndexesToRate\u001b[0m\u001b[1;33m=\u001b[0m\u001b[0mIndexesToRate\u001b[0m\u001b[1;33m)\u001b[0m\u001b[1;33m:\u001b[0m\u001b[1;33m\u001b[0m\u001b[1;33m\u001b[0m\u001b[0m\n\u001b[1;32m----> 2\u001b[1;33m     \u001b[0mindex\u001b[0m \u001b[1;33m=\u001b[0m \u001b[0mrandom\u001b[0m\u001b[1;33m.\u001b[0m\u001b[0mchoice\u001b[0m\u001b[1;33m(\u001b[0m\u001b[0mIndexesToRate\u001b[0m\u001b[1;33m)\u001b[0m\u001b[1;33m\u001b[0m\u001b[1;33m\u001b[0m\u001b[0m\n\u001b[0m\u001b[0;32m      3\u001b[0m     \u001b[0moriginal_article\u001b[0m \u001b[1;33m=\u001b[0m \u001b[0mwa_content\u001b[0m\u001b[1;33m[\u001b[0m\u001b[0mindex\u001b[0m\u001b[1;33m]\u001b[0m\u001b[1;33m\u001b[0m\u001b[1;33m\u001b[0m\u001b[0m\n\u001b[0;32m      4\u001b[0m     \u001b[0mtop_3_idx\u001b[0m \u001b[1;33m=\u001b[0m \u001b[0mnp\u001b[0m\u001b[1;33m.\u001b[0m\u001b[0margsort\u001b[0m\u001b[1;33m(\u001b[0m\u001b[0msimilarity\u001b[0m\u001b[1;33m[\u001b[0m\u001b[0mindex\u001b[0m\u001b[1;33m]\u001b[0m\u001b[1;33m)\u001b[0m\u001b[1;33m[\u001b[0m\u001b[1;33m-\u001b[0m\u001b[1;36m3\u001b[0m\u001b[1;33m:\u001b[0m\u001b[1;33m]\u001b[0m\u001b[1;33m\u001b[0m\u001b[1;33m\u001b[0m\u001b[0m\n\u001b[0;32m      5\u001b[0m     \u001b[0mtop_3_values\u001b[0m \u001b[1;33m=\u001b[0m \u001b[1;33m[\u001b[0m\u001b[0mstan_content\u001b[0m\u001b[1;33m[\u001b[0m\u001b[0mi\u001b[0m\u001b[1;33m]\u001b[0m \u001b[1;32mfor\u001b[0m \u001b[0mi\u001b[0m \u001b[1;32min\u001b[0m \u001b[0mtop_3_idx\u001b[0m\u001b[1;33m]\u001b[0m\u001b[1;33m\u001b[0m\u001b[1;33m\u001b[0m\u001b[0m\n",
      "\u001b[1;32mc:\\Users\\Nick\\anaconda3\\envs\\thesis\\lib\\random.py\u001b[0m in \u001b[0;36mchoice\u001b[1;34m(self, seq)\u001b[0m\n\u001b[0;32m    259\u001b[0m             \u001b[0mi\u001b[0m \u001b[1;33m=\u001b[0m \u001b[0mself\u001b[0m\u001b[1;33m.\u001b[0m\u001b[0m_randbelow\u001b[0m\u001b[1;33m(\u001b[0m\u001b[0mlen\u001b[0m\u001b[1;33m(\u001b[0m\u001b[0mseq\u001b[0m\u001b[1;33m)\u001b[0m\u001b[1;33m)\u001b[0m\u001b[1;33m\u001b[0m\u001b[1;33m\u001b[0m\u001b[0m\n\u001b[0;32m    260\u001b[0m         \u001b[1;32mexcept\u001b[0m \u001b[0mValueError\u001b[0m\u001b[1;33m:\u001b[0m\u001b[1;33m\u001b[0m\u001b[1;33m\u001b[0m\u001b[0m\n\u001b[1;32m--> 261\u001b[1;33m             \u001b[1;32mraise\u001b[0m \u001b[0mIndexError\u001b[0m\u001b[1;33m(\u001b[0m\u001b[1;34m'Cannot choose from an empty sequence'\u001b[0m\u001b[1;33m)\u001b[0m \u001b[1;32mfrom\u001b[0m \u001b[1;32mNone\u001b[0m\u001b[1;33m\u001b[0m\u001b[1;33m\u001b[0m\u001b[0m\n\u001b[0m\u001b[0;32m    262\u001b[0m         \u001b[1;32mreturn\u001b[0m \u001b[0mseq\u001b[0m\u001b[1;33m[\u001b[0m\u001b[0mi\u001b[0m\u001b[1;33m]\u001b[0m\u001b[1;33m\u001b[0m\u001b[1;33m\u001b[0m\u001b[0m\n\u001b[0;32m    263\u001b[0m \u001b[1;33m\u001b[0m\u001b[0m\n",
      "\u001b[1;31mIndexError\u001b[0m: Cannot choose from an empty sequence"
     ]
    }
   ],
   "source": [
    "rate_articles()"
   ]
  },
  {
   "cell_type": "code",
   "execution_count": 781,
   "metadata": {},
   "outputs": [
    {
     "data": {
      "text/plain": [
       "\"'Buren' met Harold 'Neighbours' of 'Buren' is een heel bekende tv-reeks uit Australië. Ook in Vlaanderen heeft ze veel fans. Die fans zullen binnenkort opkijken. In 2015 bestaat 'Buren' 30 jaar. Dat wordt gevierd. Zo komen de acteurs Ann Charleston en Ian Smith terug. Zij speelden jarenlang het koppel Madge en Harold. Harold was de saaie man met de bril. Smith was er voor het eerst bij in 1987. Zes jaar geleden stopte hij voorgoed in de reeks. Een echte ster werd Smith nooit. Andere acteurs uit 'Buren' lukte dat wel: Kylie Minogue, Jason Donovan, Russell Crowe, Guy Pearce, Natalie Imbruglia\\x85  \""
      ]
     },
     "execution_count": 781,
     "metadata": {},
     "output_type": "execute_result"
    }
   ],
   "source": [
    "wa_content[543]"
   ]
  },
  {
   "cell_type": "code",
   "execution_count": 785,
   "metadata": {},
   "outputs": [],
   "source": [
    "ManualScoredSimList[543][4657] = 1"
   ]
  },
  {
   "cell_type": "code",
   "execution_count": 784,
   "metadata": {},
   "outputs": [
    {
     "data": {
      "text/plain": [
       "\"Nog een Belg naar Hollywood Regisseur Fabrice du Welz gaat ' Message from the king ' draaien met de rijzende ster Chadwick Boseman , ook bekend als ' Black Panther '. Van onze medewerker Jeroen Struys ' Het Belgische label is hot in Hollywood ', vertelt onze landgenoot Fabrice du Welz aan de telefoon vanuit Santa Monica , Californië . Op de American Film Market raakte bekend dat hij na drie Belgische films en één Franse nu een film in Hollywood mag draaien . Message from the king gaat over een man die naar L.A. reist om zijn verdwenen zus te zoeken . Een detectiveverhaal , terwijl Du Welz bekendstaat om zijn behoorlijk edgy horrorfilms - zoals Alleluia , vanaf volgende week bij ons in de cinema . ' Alleluia kreeg veel aandacht in Cannes . De Amerikanen appreciëren de emotionele inzet en de acteerprestaties . Ik wil het gewelddadige contrasteren met fragiliteit . Ook voor deze film wil ik echt in de diepte gaan , en dat was ook wat Chadwick Boseman zo aantrok om de hoofdrol te vertolken . Hij zocht naar een tegengewicht voor hij aan zijn superheldenfilms begint . We filmen al in februari , want in april verwacht Marvel hem .' Boseman is een van de hotste acteurs van Hollywood , nadat hij de zanger James Brown in Get on up speelde . Hij zal wereldberoemd worden als de eerste zwarte superheld , Black Panther , in Captain America : civil war ( 2016 ) en Black Panther ( 2017 ). Betekent dit dat Du Welz zijn trilogie in de Ardennen met Calvaire en Alleluia niet zal afwerken ? ' Toch wel , ik hoop dit soort grote Amerikaanse projecten af te wisselen met persoonlijkere films . Maar nu eerst een jaartje Amerika : over tien dagen vlieg ik erin .' Kan hij net als Roskam enkele landgenoten mee importeren voor een bijrol of technisch werk ? ' Ik hoop van wel . We hebben hier een goeie naam gekregen . Roskam , Schoenaerts , Benoît Debie ( chef camera , red): ik hoor die namen hier heel de tijd .' \""
      ]
     },
     "execution_count": 784,
     "metadata": {},
     "output_type": "execute_result"
    }
   ],
   "source": [
    "stan_content[4657]"
   ]
  },
  {
   "cell_type": "markdown",
   "metadata": {},
   "source": [
    "### After rating articles, run next code cell to save"
   ]
  },
  {
   "cell_type": "code",
   "execution_count": 655,
   "metadata": {},
   "outputs": [],
   "source": [
    "with open('ManualScoringMatrix.pickle', 'wb') as handle:\n",
    "    pickle.dump(ManualScoredSimList, handle, protocol=pickle.HIGHEST_PROTOCOL)\n",
    "\n",
    "with open('IndexesToRate.pickle', 'wb') as handle:\n",
    "     pickle.dump(IndexesToRate, handle, protocol=pickle.HIGHEST_PROTOCOL)"
   ]
  },
  {
   "cell_type": "code",
   "execution_count": 608,
   "metadata": {},
   "outputs": [
    {
     "data": {
      "text/html": [
       "<div>\n",
       "<style scoped>\n",
       "    .dataframe tbody tr th:only-of-type {\n",
       "        vertical-align: middle;\n",
       "    }\n",
       "\n",
       "    .dataframe tbody tr th {\n",
       "        vertical-align: top;\n",
       "    }\n",
       "\n",
       "    .dataframe thead th {\n",
       "        text-align: right;\n",
       "    }\n",
       "</style>\n",
       "<table border=\"1\" class=\"dataframe\">\n",
       "  <thead>\n",
       "    <tr style=\"text-align: right;\">\n",
       "      <th></th>\n",
       "      <th>Wablieft_idx</th>\n",
       "      <th>top_3_standaard_idx</th>\n",
       "      <th>Manual_Scores</th>\n",
       "    </tr>\n",
       "  </thead>\n",
       "  <tbody>\n",
       "    <tr>\n",
       "      <th>0</th>\n",
       "      <td>449</td>\n",
       "      <td>[7077 5107 4620]</td>\n",
       "      <td>[1, 1, 2]</td>\n",
       "    </tr>\n",
       "    <tr>\n",
       "      <th>1</th>\n",
       "      <td>420</td>\n",
       "      <td>[ 783 2988 4617]</td>\n",
       "      <td>[2, 1, 3]</td>\n",
       "    </tr>\n",
       "    <tr>\n",
       "      <th>2</th>\n",
       "      <td>154</td>\n",
       "      <td>[3651 7595  442]</td>\n",
       "      <td>[2, 2, 4]</td>\n",
       "    </tr>\n",
       "    <tr>\n",
       "      <th>3</th>\n",
       "      <td>333</td>\n",
       "      <td>[2534 2613 5180]</td>\n",
       "      <td>[4, 5, 3]</td>\n",
       "    </tr>\n",
       "    <tr>\n",
       "      <th>4</th>\n",
       "      <td>257</td>\n",
       "      <td>[ 411 3656 1963]</td>\n",
       "      <td>[2, 1, 1]</td>\n",
       "    </tr>\n",
       "    <tr>\n",
       "      <th>...</th>\n",
       "      <td>...</td>\n",
       "      <td>...</td>\n",
       "      <td>...</td>\n",
       "    </tr>\n",
       "    <tr>\n",
       "      <th>314</th>\n",
       "      <td>160</td>\n",
       "      <td>[4333 5116 4528]</td>\n",
       "      <td>[3, 3, 3]</td>\n",
       "    </tr>\n",
       "    <tr>\n",
       "      <th>315</th>\n",
       "      <td>170</td>\n",
       "      <td>[7370 3950 1539]</td>\n",
       "      <td>[2, 2, 0]</td>\n",
       "    </tr>\n",
       "    <tr>\n",
       "      <th>316</th>\n",
       "      <td>253</td>\n",
       "      <td>[ 774 1202 2216]</td>\n",
       "      <td>[0, 0, 1]</td>\n",
       "    </tr>\n",
       "    <tr>\n",
       "      <th>317</th>\n",
       "      <td>290</td>\n",
       "      <td>[ 633 1565 2534]</td>\n",
       "      <td>[1, 4, 2]</td>\n",
       "    </tr>\n",
       "    <tr>\n",
       "      <th>318</th>\n",
       "      <td>457</td>\n",
       "      <td>[6941 2450 4864]</td>\n",
       "      <td>[2, 1, 5]</td>\n",
       "    </tr>\n",
       "  </tbody>\n",
       "</table>\n",
       "<p>319 rows × 3 columns</p>\n",
       "</div>"
      ],
      "text/plain": [
       "     Wablieft_idx  top_3_standaard_idx  Manual_Scores\n",
       "0             449     [7077 5107 4620]      [1, 1, 2]\n",
       "1             420     [ 783 2988 4617]      [2, 1, 3]\n",
       "2             154     [3651 7595  442]      [2, 2, 4]\n",
       "3             333     [2534 2613 5180]      [4, 5, 3]\n",
       "4             257     [ 411 3656 1963]      [2, 1, 1]\n",
       "..            ...                  ...            ...\n",
       "314           160     [4333 5116 4528]      [3, 3, 3]\n",
       "315           170     [7370 3950 1539]      [2, 2, 0]\n",
       "316           253     [ 774 1202 2216]      [0, 0, 1]\n",
       "317           290     [ 633 1565 2534]      [1, 4, 2]\n",
       "318           457     [6941 2450 4864]      [2, 1, 5]\n",
       "\n",
       "[319 rows x 3 columns]"
      ]
     },
     "execution_count": 608,
     "metadata": {},
     "output_type": "execute_result"
    }
   ],
   "source": [
    "testdf = pd.read_csv('ManualScoringLog.csv')\n",
    "testdf"
   ]
  }
 ],
 "metadata": {
  "interpreter": {
   "hash": "e3456e290f23e66e65c86db29512030f5b9518fa8a585a84d9a5b83ccae9d6ed"
  },
  "kernelspec": {
   "display_name": "Python 3.7.10 ('thesis')",
   "language": "python",
   "name": "python3"
  },
  "language_info": {
   "codemirror_mode": {
    "name": "ipython",
    "version": 3
   },
   "file_extension": ".py",
   "mimetype": "text/x-python",
   "name": "python",
   "nbconvert_exporter": "python",
   "pygments_lexer": "ipython3",
   "version": "3.7.10"
  },
  "orig_nbformat": 4
 },
 "nbformat": 4,
 "nbformat_minor": 2
}
